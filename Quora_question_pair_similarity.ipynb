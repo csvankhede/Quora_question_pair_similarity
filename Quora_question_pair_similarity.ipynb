{
 "cells": [
  {
   "cell_type": "code",
   "execution_count": 0,
   "metadata": {
    "colab": {},
    "colab_type": "code",
    "id": "6VXPfRp-tARR"
   },
   "outputs": [],
   "source": [
    "import pandas as pd\n",
    "import matplotlib.pyplot as plt\n",
    "import re\n",
    "import time\n",
    "import warnings\n",
    "import sqlite3\n",
    "from sqlalchemy import create_engine # database connection\n",
    "import csv\n",
    "import os\n",
    "warnings.filterwarnings(\"ignore\")\n",
    "import datetime as dt\n",
    "import numpy as np\n",
    "from nltk.corpus import stopwords\n",
    "from sklearn.decomposition import TruncatedSVD\n",
    "from sklearn.preprocessing import normalize\n",
    "from sklearn.feature_extraction.text import CountVectorizer\n",
    "from sklearn.manifold import TSNE\n",
    "import seaborn as sns\n",
    "from sklearn.neighbors import KNeighborsClassifier\n",
    "from sklearn.metrics import confusion_matrix\n",
    "from sklearn.metrics.classification import accuracy_score, log_loss\n",
    "from sklearn.feature_extraction.text import TfidfVectorizer\n",
    "from collections import Counter\n",
    "from scipy.sparse import hstack\n",
    "from sklearn.multiclass import OneVsRestClassifier\n",
    "from sklearn.svm import SVC\n",
    "from sklearn.model_selection import StratifiedKFold \n",
    "from collections import Counter, defaultdict\n",
    "from sklearn.calibration import CalibratedClassifierCV\n",
    "from sklearn.naive_bayes import MultinomialNB\n",
    "from sklearn.naive_bayes import GaussianNB\n",
    "from sklearn.model_selection import train_test_split\n",
    "from sklearn.model_selection import GridSearchCV\n",
    "import math\n",
    "from sklearn.metrics import normalized_mutual_info_score\n",
    "from sklearn.ensemble import RandomForestClassifier\n",
    "\n",
    "\n",
    "\n",
    "from sklearn.model_selection import cross_val_score\n",
    "from sklearn.linear_model import SGDClassifier\n",
    "from mlxtend.classifier import StackingClassifier\n",
    "\n",
    "from sklearn import model_selection\n",
    "from sklearn.linear_model import LogisticRegression\n",
    "from sklearn.metrics import precision_recall_curve, auc, roc_curve\n",
    "\n",
    "import pickle"
   ]
  },
  {
   "cell_type": "markdown",
   "metadata": {
    "colab_type": "text",
    "id": "ZihvUPvHtARd"
   },
   "source": [
    "<h1>4. Machine Learning Models </h1>"
   ]
  },
  {
   "cell_type": "markdown",
   "metadata": {
    "colab_type": "text",
    "id": "CtN9VBPutARf"
   },
   "source": [
    "<h2> 4.1 Reading data from file and storing into sql table </h2>"
   ]
  },
  {
   "cell_type": "code",
   "execution_count": 0,
   "metadata": {
    "colab": {
     "base_uri": "https://localhost:8080/",
     "height": 34
    },
    "colab_type": "code",
    "id": "owBQdjY1tARh",
    "outputId": "c38d870f-9258-416e-f98f-1ac25bba3c47"
   },
   "outputs": [
    {
     "name": "stdout",
     "output_type": "stream",
     "text": [
      "180000 rows\n"
     ]
    }
   ],
   "source": [
    "#Creating db file from csv\n",
    "if not os.path.isfile('train.db'):\n",
    "    disk_engine = create_engine('sqlite:///train.db')\n",
    "    start = dt.datetime.now()\n",
    "    chunksize = 180000\n",
    "    j = 0\n",
    "    index_start = 1\n",
    "    for df in pd.read_csv('Quora/final_features.csv', names=['Unnamed: 0','id','is_duplicate','cwc_min','cwc_max','csc_min','csc_max','ctc_min','ctc_max','last_word_eq','first_word_eq','abs_len_diff','mean_len','token_set_ratio','token_sort_ratio','fuzz_ratio','fuzz_partial_ratio','longest_substr_ratio','freq_qid1','freq_qid2','q1len','q2len','q1_n_words','q2_n_words','word_Common','word_Total','word_share','freq_q1+q2','freq_q1-q2','0_x','1_x','2_x','3_x','4_x','5_x','6_x','7_x','8_x','9_x','10_x','11_x','12_x','13_x','14_x','15_x','16_x','17_x','18_x','19_x','20_x','21_x','22_x','23_x','24_x','25_x','26_x','27_x','28_x','29_x','30_x','31_x','32_x','33_x','34_x','35_x','36_x','37_x','38_x','39_x','40_x','41_x','42_x','43_x','44_x','45_x','46_x','47_x','48_x','49_x','50_x','51_x','52_x','53_x','54_x','55_x','56_x','57_x','58_x','59_x','60_x','61_x','62_x','63_x','64_x','65_x','66_x','67_x','68_x','69_x','70_x','71_x','72_x','73_x','74_x','75_x','76_x','77_x','78_x','79_x','80_x','81_x','82_x','83_x','84_x','85_x','86_x','87_x','88_x','89_x','90_x','91_x','92_x','93_x','94_x','95_x','96_x','97_x','98_x','99_x','100_x','101_x','102_x','103_x','104_x','105_x','106_x','107_x','108_x','109_x','110_x','111_x','112_x','113_x','114_x','115_x','116_x','117_x','118_x','119_x','120_x','121_x','122_x','123_x','124_x','125_x','126_x','127_x','128_x','129_x','130_x','131_x','132_x','133_x','134_x','135_x','136_x','137_x','138_x','139_x','140_x','141_x','142_x','143_x','144_x','145_x','146_x','147_x','148_x','149_x','150_x','151_x','152_x','153_x','154_x','155_x','156_x','157_x','158_x','159_x','160_x','161_x','162_x','163_x','164_x','165_x','166_x','167_x','168_x','169_x','170_x','171_x','172_x','173_x','174_x','175_x','176_x','177_x','178_x','179_x','180_x','181_x','182_x','183_x','184_x','185_x','186_x','187_x','188_x','189_x','190_x','191_x','192_x','193_x','194_x','195_x','196_x','197_x','198_x','199_x','200_x','201_x','202_x','203_x','204_x','205_x','206_x','207_x','208_x','209_x','210_x','211_x','212_x','213_x','214_x','215_x','216_x','217_x','218_x','219_x','220_x','221_x','222_x','223_x','224_x','225_x','226_x','227_x','228_x','229_x','230_x','231_x','232_x','233_x','234_x','235_x','236_x','237_x','238_x','239_x','240_x','241_x','242_x','243_x','244_x','245_x','246_x','247_x','248_x','249_x','250_x','251_x','252_x','253_x','254_x','255_x','256_x','257_x','258_x','259_x','260_x','261_x','262_x','263_x','264_x','265_x','266_x','267_x','268_x','269_x','270_x','271_x','272_x','273_x','274_x','275_x','276_x','277_x','278_x','279_x','280_x','281_x','282_x','283_x','284_x','285_x','286_x','287_x','288_x','289_x','290_x','291_x','292_x','293_x','294_x','295_x','296_x','297_x','298_x','299_x','300_x','301_x','302_x','303_x','304_x','305_x','306_x','307_x','308_x','309_x','310_x','311_x','312_x','313_x','314_x','315_x','316_x','317_x','318_x','319_x','320_x','321_x','322_x','323_x','324_x','325_x','326_x','327_x','328_x','329_x','330_x','331_x','332_x','333_x','334_x','335_x','336_x','337_x','338_x','339_x','340_x','341_x','342_x','343_x','344_x','345_x','346_x','347_x','348_x','349_x','350_x','351_x','352_x','353_x','354_x','355_x','356_x','357_x','358_x','359_x','360_x','361_x','362_x','363_x','364_x','365_x','366_x','367_x','368_x','369_x','370_x','371_x','372_x','373_x','374_x','375_x','376_x','377_x','378_x','379_x','380_x','381_x','382_x','383_x','0_y','1_y','2_y','3_y','4_y','5_y','6_y','7_y','8_y','9_y','10_y','11_y','12_y','13_y','14_y','15_y','16_y','17_y','18_y','19_y','20_y','21_y','22_y','23_y','24_y','25_y','26_y','27_y','28_y','29_y','30_y','31_y','32_y','33_y','34_y','35_y','36_y','37_y','38_y','39_y','40_y','41_y','42_y','43_y','44_y','45_y','46_y','47_y','48_y','49_y','50_y','51_y','52_y','53_y','54_y','55_y','56_y','57_y','58_y','59_y','60_y','61_y','62_y','63_y','64_y','65_y','66_y','67_y','68_y','69_y','70_y','71_y','72_y','73_y','74_y','75_y','76_y','77_y','78_y','79_y','80_y','81_y','82_y','83_y','84_y','85_y','86_y','87_y','88_y','89_y','90_y','91_y','92_y','93_y','94_y','95_y','96_y','97_y','98_y','99_y','100_y','101_y','102_y','103_y','104_y','105_y','106_y','107_y','108_y','109_y','110_y','111_y','112_y','113_y','114_y','115_y','116_y','117_y','118_y','119_y','120_y','121_y','122_y','123_y','124_y','125_y','126_y','127_y','128_y','129_y','130_y','131_y','132_y','133_y','134_y','135_y','136_y','137_y','138_y','139_y','140_y','141_y','142_y','143_y','144_y','145_y','146_y','147_y','148_y','149_y','150_y','151_y','152_y','153_y','154_y','155_y','156_y','157_y','158_y','159_y','160_y','161_y','162_y','163_y','164_y','165_y','166_y','167_y','168_y','169_y','170_y','171_y','172_y','173_y','174_y','175_y','176_y','177_y','178_y','179_y','180_y','181_y','182_y','183_y','184_y','185_y','186_y','187_y','188_y','189_y','190_y','191_y','192_y','193_y','194_y','195_y','196_y','197_y','198_y','199_y','200_y','201_y','202_y','203_y','204_y','205_y','206_y','207_y','208_y','209_y','210_y','211_y','212_y','213_y','214_y','215_y','216_y','217_y','218_y','219_y','220_y','221_y','222_y','223_y','224_y','225_y','226_y','227_y','228_y','229_y','230_y','231_y','232_y','233_y','234_y','235_y','236_y','237_y','238_y','239_y','240_y','241_y','242_y','243_y','244_y','245_y','246_y','247_y','248_y','249_y','250_y','251_y','252_y','253_y','254_y','255_y','256_y','257_y','258_y','259_y','260_y','261_y','262_y','263_y','264_y','265_y','266_y','267_y','268_y','269_y','270_y','271_y','272_y','273_y','274_y','275_y','276_y','277_y','278_y','279_y','280_y','281_y','282_y','283_y','284_y','285_y','286_y','287_y','288_y','289_y','290_y','291_y','292_y','293_y','294_y','295_y','296_y','297_y','298_y','299_y','300_y','301_y','302_y','303_y','304_y','305_y','306_y','307_y','308_y','309_y','310_y','311_y','312_y','313_y','314_y','315_y','316_y','317_y','318_y','319_y','320_y','321_y','322_y','323_y','324_y','325_y','326_y','327_y','328_y','329_y','330_y','331_y','332_y','333_y','334_y','335_y','336_y','337_y','338_y','339_y','340_y','341_y','342_y','343_y','344_y','345_y','346_y','347_y','348_y','349_y','350_y','351_y','352_y','353_y','354_y','355_y','356_y','357_y','358_y','359_y','360_y','361_y','362_y','363_y','364_y','365_y','366_y','367_y','368_y','369_y','370_y','371_y','372_y','373_y','374_y','375_y','376_y','377_y','378_y','379_y','380_y','381_y','382_y','383_y'], chunksize=chunksize, iterator=True, encoding='utf-8', ):\n",
    "        df.index += index_start\n",
    "        j+=1\n",
    "        print('{} rows'.format(j*chunksize))\n",
    "        df.to_sql('data', disk_engine, if_exists='append')\n",
    "        index_start = df.index[-1] + 1"
   ]
  },
  {
   "cell_type": "code",
   "execution_count": 0,
   "metadata": {
    "colab": {},
    "colab_type": "code",
    "id": "4hpD3aBktARn"
   },
   "outputs": [],
   "source": [
    "#http://www.sqlitetutorial.net/sqlite-python/create-tables/\n",
    "def create_connection(db_file):\n",
    "    \"\"\" create a database connection to the SQLite database\n",
    "        specified by db_file\n",
    "    :param db_file: database file\n",
    "    :return: Connection object or None\n",
    "    \"\"\"\n",
    "    try:\n",
    "        conn = sqlite3.connect(db_file)\n",
    "        return conn\n",
    "    except Error as e:\n",
    "        print(e)\n",
    " \n",
    "    return None\n",
    "\n",
    "\n",
    "def checkTableExists(dbcon):\n",
    "    cursr = dbcon.cursor()\n",
    "    str = \"select name from sqlite_master where type='table'\"\n",
    "    table_names = cursr.execute(str)\n",
    "    print(\"Tables in the databse:\")\n",
    "    tables =table_names.fetchall() \n",
    "    print(tables[0][0])\n",
    "    return(len(tables))"
   ]
  },
  {
   "cell_type": "code",
   "execution_count": 0,
   "metadata": {
    "colab": {},
    "colab_type": "code",
    "id": "nR8ZIUnttARs",
    "outputId": "810fb3fb-7da2-4b78-9e29-9edabbf68cf6"
   },
   "outputs": [
    {
     "name": "stdout",
     "output_type": "stream",
     "text": [
      "Tables in the databse:\n",
      "data\n"
     ]
    }
   ],
   "source": [
    "read_db = 'train.db'\n",
    "conn_r = create_connection(read_db)\n",
    "checkTableExists(conn_r)\n",
    "conn_r.close()"
   ]
  },
  {
   "cell_type": "code",
   "execution_count": 0,
   "metadata": {
    "colab": {},
    "colab_type": "code",
    "id": "SZq5gaaztARy"
   },
   "outputs": [],
   "source": [
    "# try to sample data according to the computing power you have\n",
    "if os.path.isfile(read_db):\n",
    "    conn_r = create_connection(read_db)\n",
    "    if conn_r is not None:\n",
    "        # for selecting first 1M rows\n",
    "        # data = pd.read_sql_query(\"\"\"SELECT * FROM data LIMIT 100001;\"\"\", conn_r)\n",
    "        \n",
    "        # for selecting random points\n",
    "        data = pd.read_sql_query(\"SELECT * From data ORDER BY RANDOM() LIMIT 100001;\", conn_r)\n",
    "        conn_r.commit()\n",
    "        conn_r.close()"
   ]
  },
  {
   "cell_type": "code",
   "execution_count": 0,
   "metadata": {
    "colab": {},
    "colab_type": "code",
    "id": "ZkeBKktKtAR3"
   },
   "outputs": [],
   "source": [
    "# remove the first row \n",
    "data.drop(data.index[0], inplace=True)\n",
    "y_true = data['is_duplicate']\n",
    "data.drop(['Unnamed: 0', 'id','index','is_duplicate'], axis=1, inplace=True)"
   ]
  },
  {
   "cell_type": "code",
   "execution_count": 0,
   "metadata": {
    "colab": {},
    "colab_type": "code",
    "id": "QKSenpsmtAR9",
    "outputId": "81d890ce-df79-4402-9324-84817dbd5a7d"
   },
   "outputs": [
    {
     "data": {
      "text/html": [
       "<div>\n",
       "<style>\n",
       "    .dataframe thead tr:only-child th {\n",
       "        text-align: right;\n",
       "    }\n",
       "\n",
       "    .dataframe thead th {\n",
       "        text-align: left;\n",
       "    }\n",
       "\n",
       "    .dataframe tbody tr th {\n",
       "        vertical-align: top;\n",
       "    }\n",
       "</style>\n",
       "<table border=\"1\" class=\"dataframe\">\n",
       "  <thead>\n",
       "    <tr style=\"text-align: right;\">\n",
       "      <th></th>\n",
       "      <th>cwc_min</th>\n",
       "      <th>cwc_max</th>\n",
       "      <th>csc_min</th>\n",
       "      <th>csc_max</th>\n",
       "      <th>ctc_min</th>\n",
       "      <th>ctc_max</th>\n",
       "      <th>last_word_eq</th>\n",
       "      <th>first_word_eq</th>\n",
       "      <th>abs_len_diff</th>\n",
       "      <th>mean_len</th>\n",
       "      <th>...</th>\n",
       "      <th>374_y</th>\n",
       "      <th>375_y</th>\n",
       "      <th>376_y</th>\n",
       "      <th>377_y</th>\n",
       "      <th>378_y</th>\n",
       "      <th>379_y</th>\n",
       "      <th>380_y</th>\n",
       "      <th>381_y</th>\n",
       "      <th>382_y</th>\n",
       "      <th>383_y</th>\n",
       "    </tr>\n",
       "  </thead>\n",
       "  <tbody>\n",
       "    <tr>\n",
       "      <th>1</th>\n",
       "      <td>0.199996000079998</td>\n",
       "      <td>0.166663888935184</td>\n",
       "      <td>0.0</td>\n",
       "      <td>0.0</td>\n",
       "      <td>0.14285510206997</td>\n",
       "      <td>0.0999990000099999</td>\n",
       "      <td>0.0</td>\n",
       "      <td>0.0</td>\n",
       "      <td>3.0</td>\n",
       "      <td>8.5</td>\n",
       "      <td>...</td>\n",
       "      <td>-0.452613651752472</td>\n",
       "      <td>15.652570605278</td>\n",
       "      <td>6.08213365077972</td>\n",
       "      <td>-11.8397651314735</td>\n",
       "      <td>13.1632919311523</td>\n",
       "      <td>-2.98961134254932</td>\n",
       "      <td>-22.7671056985855</td>\n",
       "      <td>-0.55659094452858</td>\n",
       "      <td>16.7820047736168</td>\n",
       "      <td>20.3098403215408</td>\n",
       "    </tr>\n",
       "    <tr>\n",
       "      <th>2</th>\n",
       "      <td>0.399992000159997</td>\n",
       "      <td>0.399992000159997</td>\n",
       "      <td>0.499987500312492</td>\n",
       "      <td>0.499987500312492</td>\n",
       "      <td>0.444439506227709</td>\n",
       "      <td>0.444439506227709</td>\n",
       "      <td>0.0</td>\n",
       "      <td>0.0</td>\n",
       "      <td>0.0</td>\n",
       "      <td>9.0</td>\n",
       "      <td>...</td>\n",
       "      <td>-7.29706252366304</td>\n",
       "      <td>8.17464561760426</td>\n",
       "      <td>11.8678730130196</td>\n",
       "      <td>-0.180742904543877</td>\n",
       "      <td>-7.7285645082593</td>\n",
       "      <td>-1.18125408887863</td>\n",
       "      <td>-10.2087883651257</td>\n",
       "      <td>1.95615618489683</td>\n",
       "      <td>5.9711550520733</td>\n",
       "      <td>-0.634018301963806</td>\n",
       "    </tr>\n",
       "    <tr>\n",
       "      <th>3</th>\n",
       "      <td>0.833319444675922</td>\n",
       "      <td>0.714275510349852</td>\n",
       "      <td>0.999983333611106</td>\n",
       "      <td>0.857130612419823</td>\n",
       "      <td>0.687495703151855</td>\n",
       "      <td>0.687495703151855</td>\n",
       "      <td>0.0</td>\n",
       "      <td>1.0</td>\n",
       "      <td>0.0</td>\n",
       "      <td>16.0</td>\n",
       "      <td>...</td>\n",
       "      <td>10.6274425089359</td>\n",
       "      <td>8.40339290164411</td>\n",
       "      <td>14.16905092448</td>\n",
       "      <td>-14.7492953687906</td>\n",
       "      <td>13.0176268517971</td>\n",
       "      <td>15.6888161092065</td>\n",
       "      <td>-26.4774019122124</td>\n",
       "      <td>24.7521114945412</td>\n",
       "      <td>14.29726113379</td>\n",
       "      <td>0.945210464298725</td>\n",
       "    </tr>\n",
       "    <tr>\n",
       "      <th>4</th>\n",
       "      <td>0.0</td>\n",
       "      <td>0.0</td>\n",
       "      <td>0.599988000239995</td>\n",
       "      <td>0.499991666805553</td>\n",
       "      <td>0.249997916684028</td>\n",
       "      <td>0.230767455634957</td>\n",
       "      <td>0.0</td>\n",
       "      <td>0.0</td>\n",
       "      <td>1.0</td>\n",
       "      <td>12.5</td>\n",
       "      <td>...</td>\n",
       "      <td>9.43481918051839</td>\n",
       "      <td>47.0162477493286</td>\n",
       "      <td>6.11483122035861</td>\n",
       "      <td>-9.12068559974432</td>\n",
       "      <td>-3.70159254875034</td>\n",
       "      <td>-6.60001696646214</td>\n",
       "      <td>-26.1024898421019</td>\n",
       "      <td>13.254497602582</td>\n",
       "      <td>10.0541534200311</td>\n",
       "      <td>-6.71233975887299</td>\n",
       "    </tr>\n",
       "    <tr>\n",
       "      <th>5</th>\n",
       "      <td>0.749981250468738</td>\n",
       "      <td>0.749981250468738</td>\n",
       "      <td>0.499987500312492</td>\n",
       "      <td>0.499987500312492</td>\n",
       "      <td>0.624992187597655</td>\n",
       "      <td>0.624992187597655</td>\n",
       "      <td>1.0</td>\n",
       "      <td>0.0</td>\n",
       "      <td>0.0</td>\n",
       "      <td>8.0</td>\n",
       "      <td>...</td>\n",
       "      <td>-0.158434137701988</td>\n",
       "      <td>13.7061135396361</td>\n",
       "      <td>6.35377380251884</td>\n",
       "      <td>-7.79693192709237</td>\n",
       "      <td>7.42785215843469</td>\n",
       "      <td>0.602214589715004</td>\n",
       "      <td>-17.1489275898784</td>\n",
       "      <td>-1.66515278816223</td>\n",
       "      <td>4.06413406133652</td>\n",
       "      <td>3.87387558817863</td>\n",
       "    </tr>\n",
       "  </tbody>\n",
       "</table>\n",
       "<p>5 rows × 794 columns</p>\n",
       "</div>"
      ],
      "text/plain": [
       "             cwc_min            cwc_max            csc_min            csc_max  \\\n",
       "1  0.199996000079998  0.166663888935184                0.0                0.0   \n",
       "2  0.399992000159997  0.399992000159997  0.499987500312492  0.499987500312492   \n",
       "3  0.833319444675922  0.714275510349852  0.999983333611106  0.857130612419823   \n",
       "4                0.0                0.0  0.599988000239995  0.499991666805553   \n",
       "5  0.749981250468738  0.749981250468738  0.499987500312492  0.499987500312492   \n",
       "\n",
       "             ctc_min             ctc_max last_word_eq first_word_eq  \\\n",
       "1   0.14285510206997  0.0999990000099999          0.0           0.0   \n",
       "2  0.444439506227709   0.444439506227709          0.0           0.0   \n",
       "3  0.687495703151855   0.687495703151855          0.0           1.0   \n",
       "4  0.249997916684028   0.230767455634957          0.0           0.0   \n",
       "5  0.624992187597655   0.624992187597655          1.0           0.0   \n",
       "\n",
       "  abs_len_diff mean_len         ...                       374_y  \\\n",
       "1          3.0      8.5         ...          -0.452613651752472   \n",
       "2          0.0      9.0         ...           -7.29706252366304   \n",
       "3          0.0     16.0         ...            10.6274425089359   \n",
       "4          1.0     12.5         ...            9.43481918051839   \n",
       "5          0.0      8.0         ...          -0.158434137701988   \n",
       "\n",
       "              375_y             376_y               377_y              378_y  \\\n",
       "1   15.652570605278  6.08213365077972   -11.8397651314735   13.1632919311523   \n",
       "2  8.17464561760426  11.8678730130196  -0.180742904543877   -7.7285645082593   \n",
       "3  8.40339290164411    14.16905092448   -14.7492953687906   13.0176268517971   \n",
       "4  47.0162477493286  6.11483122035861   -9.12068559974432  -3.70159254875034   \n",
       "5  13.7061135396361  6.35377380251884   -7.79693192709237   7.42785215843469   \n",
       "\n",
       "               379_y              380_y              381_y             382_y  \\\n",
       "1  -2.98961134254932  -22.7671056985855  -0.55659094452858  16.7820047736168   \n",
       "2  -1.18125408887863  -10.2087883651257   1.95615618489683   5.9711550520733   \n",
       "3   15.6888161092065  -26.4774019122124   24.7521114945412    14.29726113379   \n",
       "4  -6.60001696646214  -26.1024898421019    13.254497602582  10.0541534200311   \n",
       "5  0.602214589715004  -17.1489275898784  -1.66515278816223  4.06413406133652   \n",
       "\n",
       "                383_y  \n",
       "1    20.3098403215408  \n",
       "2  -0.634018301963806  \n",
       "3   0.945210464298725  \n",
       "4   -6.71233975887299  \n",
       "5    3.87387558817863  \n",
       "\n",
       "[5 rows x 794 columns]"
      ]
     },
     "execution_count": 9,
     "metadata": {
      "tags": []
     },
     "output_type": "execute_result"
    }
   ],
   "source": [
    "data.head()"
   ]
  },
  {
   "cell_type": "markdown",
   "metadata": {
    "colab_type": "text",
    "id": "KaWHDzqUtASD"
   },
   "source": [
    "<h2> 4.2 Converting strings to numerics </h2>"
   ]
  },
  {
   "cell_type": "code",
   "execution_count": 0,
   "metadata": {
    "colab": {},
    "colab_type": "code",
    "id": "iLV60gkptASD"
   },
   "outputs": [],
   "source": [
    "# after we read from sql table each entry was read it as a string\n",
    "# we convert all the features into numaric before we apply any model\n",
    "cols = list(data.columns)\n",
    "for i in cols:\n",
    "    data[i] = data[i].apply(pd.to_numeric)\n",
    "    print(i)"
   ]
  },
  {
   "cell_type": "code",
   "execution_count": 0,
   "metadata": {
    "colab": {},
    "colab_type": "code",
    "id": "_LpfQwc9tASJ"
   },
   "outputs": [],
   "source": [
    "# https://stackoverflow.com/questions/7368789/convert-all-strings-in-a-list-to-int\n",
    "y_true = list(map(int, y_true.values))"
   ]
  },
  {
   "cell_type": "markdown",
   "metadata": {
    "colab_type": "text",
    "id": "CuMTqWGutASO"
   },
   "source": [
    "<h2> 4.3 Random train test split( 70:30) </h2>"
   ]
  },
  {
   "cell_type": "code",
   "execution_count": 0,
   "metadata": {
    "colab": {},
    "colab_type": "code",
    "id": "3Rat2obGtASP"
   },
   "outputs": [],
   "source": [
    "X_train,X_test, y_train, y_test = train_test_split(data, y_true, stratify=y_true, test_size=0.3)"
   ]
  },
  {
   "cell_type": "code",
   "execution_count": 0,
   "metadata": {
    "colab": {},
    "colab_type": "code",
    "id": "1Iw9zCHqtASS",
    "outputId": "910b684b-0876-4dd8-e0d9-457846236833"
   },
   "outputs": [
    {
     "name": "stdout",
     "output_type": "stream",
     "text": [
      "Number of data points in train data : (70000, 794)\n",
      "Number of data points in test data : (30000, 794)\n"
     ]
    }
   ],
   "source": [
    "print(\"Number of data points in train data :\",X_train.shape)\n",
    "print(\"Number of data points in test data :\",X_test.shape)"
   ]
  },
  {
   "cell_type": "code",
   "execution_count": 0,
   "metadata": {
    "colab": {},
    "colab_type": "code",
    "id": "0oDV15LJtASY",
    "outputId": "70a1e4eb-3f31-4f1e-a53b-ad972978505d"
   },
   "outputs": [
    {
     "name": "stdout",
     "output_type": "stream",
     "text": [
      "---------- Distribution of output variable in train data ----------\n",
      "Class 0:  0.6324857142857143 Class 1:  0.36751428571428574\n",
      "---------- Distribution of output variable in train data ----------\n",
      "Class 0:  0.3675 Class 1:  0.3675\n"
     ]
    }
   ],
   "source": [
    "print(\"-\"*10, \"Distribution of output variable in train data\", \"-\"*10)\n",
    "train_distr = Counter(y_train)\n",
    "train_len = len(y_train)\n",
    "print(\"Class 0: \",int(train_distr[0])/train_len,\"Class 1: \", int(train_distr[1])/train_len)\n",
    "print(\"-\"*10, \"Distribution of output variable in train data\", \"-\"*10)\n",
    "test_distr = Counter(y_test)\n",
    "test_len = len(y_test)\n",
    "print(\"Class 0: \",int(test_distr[1])/test_len, \"Class 1: \",int(test_distr[1])/test_len)"
   ]
  },
  {
   "cell_type": "code",
   "execution_count": 0,
   "metadata": {
    "colab": {},
    "colab_type": "code",
    "id": "XfxcPT6jtASg"
   },
   "outputs": [],
   "source": [
    "# This function plots the confusion matrices given y_i, y_i_hat.\n",
    "def plot_confusion_matrix(test_y, predict_y):\n",
    "    C = confusion_matrix(test_y, predict_y)\n",
    "    # C = 9,9 matrix, each cell (i,j) represents number of points of class i are predicted class j\n",
    "    \n",
    "    A =(((C.T)/(C.sum(axis=1))).T)\n",
    "    #divid each element of the confusion matrix with the sum of elements in that column\n",
    "    \n",
    "    # C = [[1, 2],\n",
    "    #     [3, 4]]\n",
    "    # C.T = [[1, 3],\n",
    "    #        [2, 4]]\n",
    "    # C.sum(axis = 1)  axis=0 corresonds to columns and axis=1 corresponds to rows in two diamensional array\n",
    "    # C.sum(axix =1) = [[3, 7]]\n",
    "    # ((C.T)/(C.sum(axis=1))) = [[1/3, 3/7]\n",
    "    #                           [2/3, 4/7]]\n",
    "\n",
    "    # ((C.T)/(C.sum(axis=1))).T = [[1/3, 2/3]\n",
    "    #                           [3/7, 4/7]]\n",
    "    # sum of row elements = 1\n",
    "    \n",
    "    B =(C/C.sum(axis=0))\n",
    "    #divid each element of the confusion matrix with the sum of elements in that row\n",
    "    # C = [[1, 2],\n",
    "    #     [3, 4]]\n",
    "    # C.sum(axis = 0)  axis=0 corresonds to columns and axis=1 corresponds to rows in two diamensional array\n",
    "    # C.sum(axix =0) = [[4, 6]]\n",
    "    # (C/C.sum(axis=0)) = [[1/4, 2/6],\n",
    "    #                      [3/4, 4/6]] \n",
    "    plt.figure(figsize=(20,4))\n",
    "    \n",
    "    labels = [1,2]\n",
    "    # representing A in heatmap format\n",
    "    cmap=sns.light_palette(\"blue\")\n",
    "    plt.subplot(1, 3, 1)\n",
    "    sns.heatmap(C, annot=True, cmap=cmap, fmt=\".3f\", xticklabels=labels, yticklabels=labels)\n",
    "    plt.xlabel('Predicted Class')\n",
    "    plt.ylabel('Original Class')\n",
    "    plt.title(\"Confusion matrix\")\n",
    "    \n",
    "    plt.subplot(1, 3, 2)\n",
    "    sns.heatmap(B, annot=True, cmap=cmap, fmt=\".3f\", xticklabels=labels, yticklabels=labels)\n",
    "    plt.xlabel('Predicted Class')\n",
    "    plt.ylabel('Original Class')\n",
    "    plt.title(\"Precision matrix\")\n",
    "    \n",
    "    plt.subplot(1, 3, 3)\n",
    "    # representing B in heatmap format\n",
    "    sns.heatmap(A, annot=True, cmap=cmap, fmt=\".3f\", xticklabels=labels, yticklabels=labels)\n",
    "    plt.xlabel('Predicted Class')\n",
    "    plt.ylabel('Original Class')\n",
    "    plt.title(\"Recall matrix\")\n",
    "    \n",
    "    plt.show()"
   ]
  },
  {
   "cell_type": "markdown",
   "metadata": {
    "colab_type": "text",
    "id": "UStQJ5F_tASk"
   },
   "source": [
    "<h2> 4.4 Building a random model (Finding worst-case log-loss) </h2>"
   ]
  },
  {
   "cell_type": "code",
   "execution_count": 0,
   "metadata": {
    "colab": {},
    "colab_type": "code",
    "id": "qwMDqcU7tASl",
    "outputId": "c1e90d53-25ec-445b-e33a-299538520e32"
   },
   "outputs": [
    {
     "name": "stdout",
     "output_type": "stream",
     "text": [
      "Log loss on Test Data using Random Model 0.887242646958\n"
     ]
    },
    {
     "data": {
      "image/png": "[encoded data removed]",
      "text/plain": [
       "<matplotlib.figure.Figure at 0x2567c619c18>"
      ]
     },
     "metadata": {
      "tags": []
     },
     "output_type": "display_data"
    }
   ],
   "source": [
    "# we need to generate 9 numbers and the sum of numbers should be 1\n",
    "# one solution is to genarate 9 numbers and divide each of the numbers by their sum\n",
    "# ref: https://stackoverflow.com/a/18662466/4084039\n",
    "# we create a output array that has exactly same size as the CV data\n",
    "predicted_y = np.zeros((test_len,2))\n",
    "for i in range(test_len):\n",
    "    rand_probs = np.random.rand(1,2)\n",
    "    predicted_y[i] = ((rand_probs/sum(sum(rand_probs)))[0])\n",
    "print(\"Log loss on Test Data using Random Model\",log_loss(y_test, predicted_y, eps=1e-15))\n",
    "\n",
    "predicted_y =np.argmax(predicted_y, axis=1)\n",
    "plot_confusion_matrix(y_test, predicted_y)"
   ]
  },
  {
   "cell_type": "markdown",
   "metadata": {
    "colab_type": "text",
    "id": "YgY29g_qtASq"
   },
   "source": [
    "<h2> 4.4 Logistic Regression with hyperparameter tuning </h2>"
   ]
  },
  {
   "cell_type": "code",
   "execution_count": 0,
   "metadata": {
    "colab": {},
    "colab_type": "code",
    "id": "Wb2tOE3GtASr",
    "outputId": "d7e4fc88-7d4e-4313-cda7-462a2409292e"
   },
   "outputs": [
    {
     "name": "stdout",
     "output_type": "stream",
     "text": [
      "For values of alpha =  1e-05 The log loss is: 0.592800211149\n",
      "For values of alpha =  0.0001 The log loss is: 0.532351700629\n",
      "For values of alpha =  0.001 The log loss is: 0.527562275995\n",
      "For values of alpha =  0.01 The log loss is: 0.534535408885\n",
      "For values of alpha =  0.1 The log loss is: 0.525117052926\n",
      "For values of alpha =  1 The log loss is: 0.520035530431\n",
      "For values of alpha =  10 The log loss is: 0.521097925307\n"
     ]
    },
    {
     "data": {
      "image/png": "[encoded data removed]",
      "text/plain": [
       "<matplotlib.figure.Figure at 0x25667090eb8>"
      ]
     },
     "metadata": {
      "tags": []
     },
     "output_type": "display_data"
    },
    {
     "name": "stdout",
     "output_type": "stream",
     "text": [
      "For values of best alpha =  1 The train log loss is: 0.513842874233\n",
      "For values of best alpha =  1 The test log loss is: 0.520035530431\n",
      "Total number of data points : 30000\n"
     ]
    },
    {
     "data": {
      "image/png": "[encoded data removed]",
      "text/plain": [
       "<matplotlib.figure.Figure at 0x256793c19b0>"
      ]
     },
     "metadata": {
      "tags": []
     },
     "output_type": "display_data"
    }
   ],
   "source": [
    "alpha = [10 ** x for x in range(-5, 2)] # hyperparam for SGD classifier.\n",
    "\n",
    "# read more about SGDClassifier() at http://scikit-learn.org/stable/modules/generated/sklearn.linear_model.SGDClassifier.html\n",
    "# ------------------------------\n",
    "# default parameters\n",
    "# SGDClassifier(loss=’hinge’, penalty=’l2’, alpha=0.0001, l1_ratio=0.15, fit_intercept=True, max_iter=None, tol=None, \n",
    "# shuffle=True, verbose=0, epsilon=0.1, n_jobs=1, random_state=None, learning_rate=’optimal’, eta0=0.0, power_t=0.5, \n",
    "# class_weight=None, warm_start=False, average=False, n_iter=None)\n",
    "\n",
    "# some of methods\n",
    "# fit(X, y[, coef_init, intercept_init, …])\tFit linear model with Stochastic Gradient Descent.\n",
    "# predict(X)\tPredict class labels for samples in X.\n",
    "\n",
    "#-------------------------------\n",
    "# video link: \n",
    "#------------------------------\n",
    "\n",
    "\n",
    "log_error_array=[]\n",
    "for i in alpha:\n",
    "    clf = SGDClassifier(alpha=i, penalty='l2', loss='log', random_state=42)\n",
    "    clf.fit(X_train, y_train)\n",
    "    sig_clf = CalibratedClassifierCV(clf, method=\"sigmoid\")\n",
    "    sig_clf.fit(X_train, y_train)\n",
    "    predict_y = sig_clf.predict_proba(X_test)\n",
    "    log_error_array.append(log_loss(y_test, predict_y, labels=clf.classes_, eps=1e-15))\n",
    "    print('For values of alpha = ', i, \"The log loss is:\",log_loss(y_test, predict_y, labels=clf.classes_, eps=1e-15))\n",
    "\n",
    "fig, ax = plt.subplots()\n",
    "ax.plot(alpha, log_error_array,c='g')\n",
    "for i, txt in enumerate(np.round(log_error_array,3)):\n",
    "    ax.annotate((alpha[i],np.round(txt,3)), (alpha[i],log_error_array[i]))\n",
    "plt.grid()\n",
    "plt.title(\"Cross Validation Error for each alpha\")\n",
    "plt.xlabel(\"Alpha i's\")\n",
    "plt.ylabel(\"Error measure\")\n",
    "plt.show()\n",
    "\n",
    "\n",
    "best_alpha = np.argmin(log_error_array)\n",
    "clf = SGDClassifier(alpha=alpha[best_alpha], penalty='l2', loss='log', random_state=42)\n",
    "clf.fit(X_train, y_train)\n",
    "sig_clf = CalibratedClassifierCV(clf, method=\"sigmoid\")\n",
    "sig_clf.fit(X_train, y_train)\n",
    "\n",
    "predict_y = sig_clf.predict_proba(X_train)\n",
    "print('For values of best alpha = ', alpha[best_alpha], \"The train log loss is:\",log_loss(y_train, predict_y, labels=clf.classes_, eps=1e-15))\n",
    "predict_y = sig_clf.predict_proba(X_test)\n",
    "print('For values of best alpha = ', alpha[best_alpha], \"The test log loss is:\",log_loss(y_test, predict_y, labels=clf.classes_, eps=1e-15))\n",
    "predicted_y =np.argmax(predict_y,axis=1)\n",
    "print(\"Total number of data points :\", len(predicted_y))\n",
    "plot_confusion_matrix(y_test, predicted_y)"
   ]
  },
  {
   "cell_type": "markdown",
   "metadata": {
    "colab_type": "text",
    "id": "ouQSEnr3tASy"
   },
   "source": [
    "<h2> 4.5 Linear SVM with hyperparameter tuning </h2>"
   ]
  },
  {
   "cell_type": "code",
   "execution_count": 0,
   "metadata": {
    "colab": {},
    "colab_type": "code",
    "id": "AOFfZ5PLtAS0",
    "outputId": "d31eb598-e275-48cb-c49b-98e9eb76d8ba"
   },
   "outputs": [
    {
     "name": "stdout",
     "output_type": "stream",
     "text": [
      "For values of alpha =  1e-05 The log loss is: 0.657611721261\n",
      "For values of alpha =  0.0001 The log loss is: 0.489669093534\n",
      "For values of alpha =  0.001 The log loss is: 0.521829068562\n",
      "For values of alpha =  0.01 The log loss is: 0.566295616914\n",
      "For values of alpha =  0.1 The log loss is: 0.599957866217\n",
      "For values of alpha =  1 The log loss is: 0.635059427016\n",
      "For values of alpha =  10 The log loss is: 0.654159467907\n"
     ]
    },
    {
     "data": {
      "image/png": "[encoded data removed]",
      "text/plain": [
       "<matplotlib.figure.Figure at 0x2568b154438>"
      ]
     },
     "metadata": {
      "tags": []
     },
     "output_type": "display_data"
    },
    {
     "name": "stdout",
     "output_type": "stream",
     "text": [
      "For values of best alpha =  0.0001 The train log loss is: 0.478054677285\n",
      "For values of best alpha =  0.0001 The test log loss is: 0.489669093534\n",
      "Total number of data points : 30000\n"
     ]
    },
    {
     "data": {
      "image/png": "[encoded data removed]",
      "text/plain": [
       "<matplotlib.figure.Figure at 0x2567423deb8>"
      ]
     },
     "metadata": {
      "tags": []
     },
     "output_type": "display_data"
    }
   ],
   "source": [
    "alpha = [10 ** x for x in range(-5, 2)] # hyperparam for SGD classifier.\n",
    "\n",
    "# read more about SGDClassifier() at http://scikit-learn.org/stable/modules/generated/sklearn.linear_model.SGDClassifier.html\n",
    "# ------------------------------\n",
    "# default parameters\n",
    "# SGDClassifier(loss=’hinge’, penalty=’l2’, alpha=0.0001, l1_ratio=0.15, fit_intercept=True, max_iter=None, tol=None, \n",
    "# shuffle=True, verbose=0, epsilon=0.1, n_jobs=1, random_state=None, learning_rate=’optimal’, eta0=0.0, power_t=0.5, \n",
    "# class_weight=None, warm_start=False, average=False, n_iter=None)\n",
    "\n",
    "# some of methods\n",
    "# fit(X, y[, coef_init, intercept_init, …])\tFit linear model with Stochastic Gradient Descent.\n",
    "# predict(X)\tPredict class labels for samples in X.\n",
    "\n",
    "#-------------------------------\n",
    "# video link: \n",
    "#------------------------------\n",
    "\n",
    "\n",
    "log_error_array=[]\n",
    "for i in alpha:\n",
    "    clf = SGDClassifier(alpha=i, penalty='l1', loss='hinge', random_state=42)\n",
    "    clf.fit(X_train, y_train)\n",
    "    sig_clf = CalibratedClassifierCV(clf, method=\"sigmoid\")\n",
    "    sig_clf.fit(X_train, y_train)\n",
    "    predict_y = sig_clf.predict_proba(X_test)\n",
    "    log_error_array.append(log_loss(y_test, predict_y, labels=clf.classes_, eps=1e-15))\n",
    "    print('For values of alpha = ', i, \"The log loss is:\",log_loss(y_test, predict_y, labels=clf.classes_, eps=1e-15))\n",
    "\n",
    "fig, ax = plt.subplots()\n",
    "ax.plot(alpha, log_error_array,c='g')\n",
    "for i, txt in enumerate(np.round(log_error_array,3)):\n",
    "    ax.annotate((alpha[i],np.round(txt,3)), (alpha[i],log_error_array[i]))\n",
    "plt.grid()\n",
    "plt.title(\"Cross Validation Error for each alpha\")\n",
    "plt.xlabel(\"Alpha i's\")\n",
    "plt.ylabel(\"Error measure\")\n",
    "plt.show()\n",
    "\n",
    "\n",
    "best_alpha = np.argmin(log_error_array)\n",
    "clf = SGDClassifier(alpha=alpha[best_alpha], penalty='l1', loss='hinge', random_state=42)\n",
    "clf.fit(X_train, y_train)\n",
    "sig_clf = CalibratedClassifierCV(clf, method=\"sigmoid\")\n",
    "sig_clf.fit(X_train, y_train)\n",
    "\n",
    "predict_y = sig_clf.predict_proba(X_train)\n",
    "print('For values of best alpha = ', alpha[best_alpha], \"The train log loss is:\",log_loss(y_train, predict_y, labels=clf.classes_, eps=1e-15))\n",
    "predict_y = sig_clf.predict_proba(X_test)\n",
    "print('For values of best alpha = ', alpha[best_alpha], \"The test log loss is:\",log_loss(y_test, predict_y, labels=clf.classes_, eps=1e-15))\n",
    "predicted_y =np.argmax(predict_y,axis=1)\n",
    "print(\"Total number of data points :\", len(predicted_y))\n",
    "plot_confusion_matrix(y_test, predicted_y)"
   ]
  },
  {
   "cell_type": "markdown",
   "metadata": {
    "colab_type": "text",
    "id": "ZhTJgclztAS6"
   },
   "source": [
    "<h2> 4.6 XGBoost </h2>"
   ]
  },
  {
   "cell_type": "code",
   "execution_count": 0,
   "metadata": {
    "colab": {},
    "colab_type": "code",
    "id": "9U367-xetAS7",
    "outputId": "167e8588-2ac4-4c6d-ac22-f56a2fce5657"
   },
   "outputs": [
    {
     "name": "stdout",
     "output_type": "stream",
     "text": [
      "[0]\ttrain-logloss:0.684819\tvalid-logloss:0.684845\n",
      "Multiple eval metrics have been passed: 'valid-logloss' will be used for early stopping.\n",
      "\n",
      "Will train until valid-logloss hasn't improved in 20 rounds.\n",
      "[10]\ttrain-logloss:0.61583\tvalid-logloss:0.616104\n",
      "[20]\ttrain-logloss:0.564616\tvalid-logloss:0.565273\n",
      "[30]\ttrain-logloss:0.525758\tvalid-logloss:0.52679\n",
      "[40]\ttrain-logloss:0.496661\tvalid-logloss:0.498021\n",
      "[50]\ttrain-logloss:0.473563\tvalid-logloss:0.475182\n",
      "[60]\ttrain-logloss:0.455315\tvalid-logloss:0.457186\n",
      "[70]\ttrain-logloss:0.440442\tvalid-logloss:0.442482\n",
      "[80]\ttrain-logloss:0.428424\tvalid-logloss:0.430795\n",
      "[90]\ttrain-logloss:0.418803\tvalid-logloss:0.421447\n",
      "[100]\ttrain-logloss:0.41069\tvalid-logloss:0.413583\n",
      "[110]\ttrain-logloss:0.403831\tvalid-logloss:0.40693\n",
      "[120]\ttrain-logloss:0.398076\tvalid-logloss:0.401402\n",
      "[130]\ttrain-logloss:0.393305\tvalid-logloss:0.396851\n",
      "[140]\ttrain-logloss:0.38913\tvalid-logloss:0.392952\n",
      "[150]\ttrain-logloss:0.385469\tvalid-logloss:0.389521\n",
      "[160]\ttrain-logloss:0.382327\tvalid-logloss:0.386667\n",
      "[170]\ttrain-logloss:0.379541\tvalid-logloss:0.384148\n",
      "[180]\ttrain-logloss:0.377014\tvalid-logloss:0.381932\n",
      "[190]\ttrain-logloss:0.374687\tvalid-logloss:0.379883\n",
      "[200]\ttrain-logloss:0.372585\tvalid-logloss:0.378068\n",
      "[210]\ttrain-logloss:0.370615\tvalid-logloss:0.376367\n",
      "[220]\ttrain-logloss:0.368559\tvalid-logloss:0.374595\n",
      "[230]\ttrain-logloss:0.366545\tvalid-logloss:0.372847\n",
      "[240]\ttrain-logloss:0.364708\tvalid-logloss:0.371311\n",
      "[250]\ttrain-logloss:0.363021\tvalid-logloss:0.369886\n",
      "[260]\ttrain-logloss:0.36144\tvalid-logloss:0.368673\n",
      "[270]\ttrain-logloss:0.359899\tvalid-logloss:0.367421\n",
      "[280]\ttrain-logloss:0.358465\tvalid-logloss:0.366395\n",
      "[290]\ttrain-logloss:0.357128\tvalid-logloss:0.365361\n",
      "[300]\ttrain-logloss:0.355716\tvalid-logloss:0.364315\n",
      "[310]\ttrain-logloss:0.354425\tvalid-logloss:0.363403\n",
      "[320]\ttrain-logloss:0.353276\tvalid-logloss:0.362595\n",
      "[330]\ttrain-logloss:0.352084\tvalid-logloss:0.361823\n",
      "[340]\ttrain-logloss:0.351051\tvalid-logloss:0.361167\n",
      "[350]\ttrain-logloss:0.349867\tvalid-logloss:0.36043\n",
      "[360]\ttrain-logloss:0.348829\tvalid-logloss:0.359773\n",
      "[370]\ttrain-logloss:0.347689\tvalid-logloss:0.359019\n",
      "[380]\ttrain-logloss:0.346607\tvalid-logloss:0.358311\n",
      "[390]\ttrain-logloss:0.345568\tvalid-logloss:0.357674\n",
      "The test log loss is: 0.357054433715\n"
     ]
    }
   ],
   "source": [
    "import xgboost as xgb\n",
    "params = {}\n",
    "params['objective'] = 'binary:logistic'\n",
    "params['eval_metric'] = 'logloss'\n",
    "params['eta'] = 0.02\n",
    "params['max_depth'] = 4\n",
    "\n",
    "d_train = xgb.DMatrix(X_train, label=y_train)\n",
    "d_test = xgb.DMatrix(X_test, label=y_test)\n",
    "\n",
    "watchlist = [(d_train, 'train'), (d_test, 'valid')]\n",
    "\n",
    "bst = xgb.train(params, d_train, 400, watchlist, early_stopping_rounds=20, verbose_eval=10)\n",
    "\n",
    "xgdmat = xgb.DMatrix(X_train,y_train)\n",
    "predict_y = bst.predict(d_test)\n",
    "print(\"The test log loss is:\",log_loss(y_test, predict_y, labels=clf.classes_, eps=1e-15))"
   ]
  },
  {
   "cell_type": "code",
   "execution_count": 0,
   "metadata": {
    "colab": {},
    "colab_type": "code",
    "id": "6U5b17AatAS_",
    "outputId": "ca83b680-023b-4bc5-f499-8d8d85c2ff5e"
   },
   "outputs": [
    {
     "name": "stdout",
     "output_type": "stream",
     "text": [
      "Total number of data points : 30000\n"
     ]
    },
    {
     "data": {
      "image/png": "[encoded data removed]",
      "text/plain": [
       "<matplotlib.figure.Figure at 0x2567e903cf8>"
      ]
     },
     "metadata": {
      "tags": []
     },
     "output_type": "display_data"
    }
   ],
   "source": [
    "predicted_y =np.array(predict_y>0.5,dtype=int)\n",
    "print(\"Total number of data points :\", len(predicted_y))\n",
    "plot_confusion_matrix(y_test, predicted_y)"
   ]
  },
  {
   "cell_type": "markdown",
   "metadata": {
    "colab_type": "text",
    "id": "WmiIgHOJtATF"
   },
   "source": [
    "<h1> 5. Assignments </h1>"
   ]
  },
  {
   "cell_type": "markdown",
   "metadata": {
    "colab_type": "text",
    "id": "CWS6JoB0tATF"
   },
   "source": [
    "1. Try out models (Logistic regression, Linear-SVM) with simple TF-IDF vectors instead of TD_IDF weighted word2Vec.\n",
    "2. Hyperparameter tune XgBoost using RandomSearch to reduce the log-loss.\n"
   ]
  },
  {
   "cell_type": "markdown",
   "metadata": {
    "colab_type": "text",
    "id": "SEQunf_sao2U"
   },
   "source": [
    "**Note : Here in this assigment considering 100k data points gives memory error. So here in this assignment I have considered 10000 data points**"
   ]
  },
  {
   "cell_type": "code",
   "execution_count": 0,
   "metadata": {
    "colab": {},
    "colab_type": "code",
    "id": "rW1KrKt226io"
   },
   "outputs": [],
   "source": [
    "final_data = pd.read_csv('Quora/nlp_features_train.csv',encoding = 'latin-1').astype('U')"
   ]
  },
  {
   "cell_type": "code",
   "execution_count": 0,
   "metadata": {
    "colab": {
     "base_uri": "https://localhost:8080/",
     "height": 119
    },
    "colab_type": "code",
    "id": "CCT306so394w",
    "outputId": "34225f9d-fd5f-4d08-ecab-493617d967b8"
   },
   "outputs": [
    {
     "data": {
      "text/plain": [
       "Index(['id', 'qid1', 'qid2', 'question1', 'question2', 'is_duplicate',\n",
       "       'cwc_min', 'cwc_max', 'csc_min', 'csc_max', 'ctc_min', 'ctc_max',\n",
       "       'last_word_eq', 'first_word_eq', 'abs_len_diff', 'mean_len',\n",
       "       'token_set_ratio', 'token_sort_ratio', 'fuzz_ratio',\n",
       "       'fuzz_partial_ratio', 'longest_substr_ratio'],\n",
       "      dtype='object')"
      ]
     },
     "execution_count": 6,
     "metadata": {
      "tags": []
     },
     "output_type": "execute_result"
    }
   ],
   "source": [
    "final_data.columns"
   ]
  },
  {
   "cell_type": "code",
   "execution_count": 0,
   "metadata": {
    "colab": {
     "base_uri": "https://localhost:8080/",
     "height": 598
    },
    "colab_type": "code",
    "id": "wO0PUWRXpxe8",
    "outputId": "bc009d1f-35d4-41d9-a4ab-0b568891f49a"
   },
   "outputs": [
    {
     "data": {
      "text/html": [
       "<div>\n",
       "<style scoped>\n",
       "    .dataframe tbody tr th:only-of-type {\n",
       "        vertical-align: middle;\n",
       "    }\n",
       "\n",
       "    .dataframe tbody tr th {\n",
       "        vertical-align: top;\n",
       "    }\n",
       "\n",
       "    .dataframe thead th {\n",
       "        text-align: right;\n",
       "    }\n",
       "</style>\n",
       "<table border=\"1\" class=\"dataframe\">\n",
       "  <thead>\n",
       "    <tr style=\"text-align: right;\">\n",
       "      <th></th>\n",
       "      <th>id</th>\n",
       "      <th>qid1</th>\n",
       "      <th>qid2</th>\n",
       "      <th>question1</th>\n",
       "      <th>question2</th>\n",
       "      <th>is_duplicate</th>\n",
       "      <th>cwc_min</th>\n",
       "      <th>cwc_max</th>\n",
       "      <th>csc_min</th>\n",
       "      <th>csc_max</th>\n",
       "      <th>ctc_min</th>\n",
       "      <th>ctc_max</th>\n",
       "      <th>last_word_eq</th>\n",
       "      <th>first_word_eq</th>\n",
       "      <th>abs_len_diff</th>\n",
       "      <th>mean_len</th>\n",
       "      <th>token_set_ratio</th>\n",
       "      <th>token_sort_ratio</th>\n",
       "      <th>fuzz_ratio</th>\n",
       "      <th>fuzz_partial_ratio</th>\n",
       "      <th>longest_substr_ratio</th>\n",
       "    </tr>\n",
       "  </thead>\n",
       "  <tbody>\n",
       "    <tr>\n",
       "      <th>0</th>\n",
       "      <td>0</td>\n",
       "      <td>1</td>\n",
       "      <td>2</td>\n",
       "      <td>what is the step by step guide to invest in sh...</td>\n",
       "      <td>what is the step by step guide to invest in sh...</td>\n",
       "      <td>0</td>\n",
       "      <td>0.999980000399992</td>\n",
       "      <td>0.8333194446759221</td>\n",
       "      <td>0.9999833336111064</td>\n",
       "      <td>0.9999833336111064</td>\n",
       "      <td>0.9166590278414348</td>\n",
       "      <td>0.7857086735094749</td>\n",
       "      <td>0.0</td>\n",
       "      <td>1.0</td>\n",
       "      <td>2.0</td>\n",
       "      <td>13.0</td>\n",
       "      <td>100</td>\n",
       "      <td>93</td>\n",
       "      <td>93</td>\n",
       "      <td>100</td>\n",
       "      <td>0.9827586206896552</td>\n",
       "    </tr>\n",
       "    <tr>\n",
       "      <th>1</th>\n",
       "      <td>1</td>\n",
       "      <td>3</td>\n",
       "      <td>4</td>\n",
       "      <td>what is the story of kohinoor  koh i noor  dia...</td>\n",
       "      <td>what would happen if the indian government sto...</td>\n",
       "      <td>0</td>\n",
       "      <td>0.7999840003199936</td>\n",
       "      <td>0.3999960000399996</td>\n",
       "      <td>0.7499812504687383</td>\n",
       "      <td>0.5999880002399952</td>\n",
       "      <td>0.6999930000699993</td>\n",
       "      <td>0.4666635555762962</td>\n",
       "      <td>0.0</td>\n",
       "      <td>1.0</td>\n",
       "      <td>5.0</td>\n",
       "      <td>12.5</td>\n",
       "      <td>86</td>\n",
       "      <td>63</td>\n",
       "      <td>66</td>\n",
       "      <td>75</td>\n",
       "      <td>0.5961538461538461</td>\n",
       "    </tr>\n",
       "    <tr>\n",
       "      <th>2</th>\n",
       "      <td>2</td>\n",
       "      <td>5</td>\n",
       "      <td>6</td>\n",
       "      <td>how can i increase the speed of my internet co...</td>\n",
       "      <td>how can internet speed be increased by hacking...</td>\n",
       "      <td>0</td>\n",
       "      <td>0.3999920001599968</td>\n",
       "      <td>0.3333277778703688</td>\n",
       "      <td>0.3999920001599968</td>\n",
       "      <td>0.24999687503906198</td>\n",
       "      <td>0.3999960000399996</td>\n",
       "      <td>0.28571224491253633</td>\n",
       "      <td>0.0</td>\n",
       "      <td>1.0</td>\n",
       "      <td>4.0</td>\n",
       "      <td>12.0</td>\n",
       "      <td>66</td>\n",
       "      <td>66</td>\n",
       "      <td>54</td>\n",
       "      <td>54</td>\n",
       "      <td>0.16666666666666666</td>\n",
       "    </tr>\n",
       "    <tr>\n",
       "      <th>3</th>\n",
       "      <td>3</td>\n",
       "      <td>7</td>\n",
       "      <td>8</td>\n",
       "      <td>why am i mentally very lonely  how can i solve...</td>\n",
       "      <td>find the remainder when  math 23  24   math  i...</td>\n",
       "      <td>0</td>\n",
       "      <td>0.0</td>\n",
       "      <td>0.0</td>\n",
       "      <td>0.0</td>\n",
       "      <td>0.0</td>\n",
       "      <td>0.0</td>\n",
       "      <td>0.0</td>\n",
       "      <td>0.0</td>\n",
       "      <td>0.0</td>\n",
       "      <td>2.0</td>\n",
       "      <td>12.0</td>\n",
       "      <td>36</td>\n",
       "      <td>36</td>\n",
       "      <td>35</td>\n",
       "      <td>40</td>\n",
       "      <td>0.0392156862745098</td>\n",
       "    </tr>\n",
       "    <tr>\n",
       "      <th>4</th>\n",
       "      <td>4</td>\n",
       "      <td>9</td>\n",
       "      <td>10</td>\n",
       "      <td>which one dissolve in water quikly sugar  salt...</td>\n",
       "      <td>which fish would survive in salt water</td>\n",
       "      <td>0</td>\n",
       "      <td>0.3999920001599968</td>\n",
       "      <td>0.19999800001999984</td>\n",
       "      <td>0.9999500024998748</td>\n",
       "      <td>0.6666444451851604</td>\n",
       "      <td>0.5714204082798817</td>\n",
       "      <td>0.3076899408466089</td>\n",
       "      <td>0.0</td>\n",
       "      <td>1.0</td>\n",
       "      <td>6.0</td>\n",
       "      <td>10.0</td>\n",
       "      <td>67</td>\n",
       "      <td>47</td>\n",
       "      <td>46</td>\n",
       "      <td>56</td>\n",
       "      <td>0.175</td>\n",
       "    </tr>\n",
       "  </tbody>\n",
       "</table>\n",
       "</div>"
      ],
      "text/plain": [
       "  id qid1 qid2  ... fuzz_ratio fuzz_partial_ratio longest_substr_ratio\n",
       "0  0    1    2  ...         93                100   0.9827586206896552\n",
       "1  1    3    4  ...         66                 75   0.5961538461538461\n",
       "2  2    5    6  ...         54                 54  0.16666666666666666\n",
       "3  3    7    8  ...         35                 40   0.0392156862745098\n",
       "4  4    9   10  ...         46                 56                0.175\n",
       "\n",
       "[5 rows x 21 columns]"
      ]
     },
     "execution_count": 7,
     "metadata": {
      "tags": []
     },
     "output_type": "execute_result"
    }
   ],
   "source": [
    "final_data.head()"
   ]
  },
  {
   "cell_type": "code",
   "execution_count": 0,
   "metadata": {
    "colab": {
     "base_uri": "https://localhost:8080/",
     "height": 34
    },
    "colab_type": "code",
    "id": "Avreb_x9t5wZ",
    "outputId": "09680221-d0ad-40e5-a351-ad7ba7fa5c9f"
   },
   "outputs": [
    {
     "data": {
      "text/plain": [
       "(50000, 21)"
      ]
     },
     "execution_count": 22,
     "metadata": {
      "tags": []
     },
     "output_type": "execute_result"
    }
   ],
   "source": [
    "sample_df = final_data.sample(n=50000)\n",
    "sample_df.shape"
   ]
  },
  {
   "cell_type": "code",
   "execution_count": 0,
   "metadata": {
    "colab": {},
    "colab_type": "code",
    "id": "VJKF74G-v3Ef"
   },
   "outputs": [],
   "source": [
    "sample_df.to_csv('Colab Notebooks/sample_features.csv')"
   ]
  },
  {
   "cell_type": "code",
   "execution_count": 0,
   "metadata": {
    "colab": {},
    "colab_type": "code",
    "id": "jzcuRPhv6oLo"
   },
   "outputs": [],
   "source": [
    "sample_df = pd.read_csv('Colab Notebooks/sample_features.csv').astype('U')"
   ]
  },
  {
   "cell_type": "code",
   "execution_count": 0,
   "metadata": {
    "colab": {
     "base_uri": "https://localhost:8080/",
     "height": 34
    },
    "colab_type": "code",
    "id": "VRUAY8GKLO_I",
    "outputId": "0f47d92e-7133-4041-da7d-d056ae34dcf5"
   },
   "outputs": [
    {
     "data": {
      "text/plain": [
       "(50000, 21)"
      ]
     },
     "execution_count": 23,
     "metadata": {
      "tags": []
     },
     "output_type": "execute_result"
    }
   ],
   "source": [
    "sample_df.shape"
   ]
  },
  {
   "cell_type": "code",
   "execution_count": 0,
   "metadata": {
    "colab": {
     "base_uri": "https://localhost:8080/",
     "height": 5168
    },
    "colab_type": "code",
    "id": "8VUhPtR3BOqy",
    "outputId": "8795966a-ceed-4f9d-ee15-3ac8d1844775"
   },
   "outputs": [
    {
     "data": {
      "text/html": [
       "<div>\n",
       "<style scoped>\n",
       "    .dataframe tbody tr th:only-of-type {\n",
       "        vertical-align: middle;\n",
       "    }\n",
       "\n",
       "    .dataframe tbody tr th {\n",
       "        vertical-align: top;\n",
       "    }\n",
       "\n",
       "    .dataframe thead th {\n",
       "        text-align: right;\n",
       "    }\n",
       "</style>\n",
       "<table border=\"1\" class=\"dataframe\">\n",
       "  <thead>\n",
       "    <tr style=\"text-align: right;\">\n",
       "      <th></th>\n",
       "      <th>id</th>\n",
       "      <th>qid1</th>\n",
       "      <th>qid2</th>\n",
       "      <th>question1</th>\n",
       "      <th>question2</th>\n",
       "      <th>is_duplicate</th>\n",
       "      <th>cwc_min</th>\n",
       "      <th>cwc_max</th>\n",
       "      <th>csc_min</th>\n",
       "      <th>csc_max</th>\n",
       "      <th>ctc_min</th>\n",
       "      <th>ctc_max</th>\n",
       "      <th>last_word_eq</th>\n",
       "      <th>first_word_eq</th>\n",
       "      <th>abs_len_diff</th>\n",
       "      <th>mean_len</th>\n",
       "      <th>token_set_ratio</th>\n",
       "      <th>token_sort_ratio</th>\n",
       "      <th>fuzz_ratio</th>\n",
       "      <th>fuzz_partial_ratio</th>\n",
       "      <th>longest_substr_ratio</th>\n",
       "    </tr>\n",
       "  </thead>\n",
       "  <tbody>\n",
       "    <tr>\n",
       "      <th>59455</th>\n",
       "      <td>59455</td>\n",
       "      <td>78603</td>\n",
       "      <td>104125</td>\n",
       "      <td>how many keywords are there in the s q l  prog...</td>\n",
       "      <td>how many keywords are there in p h p  programm...</td>\n",
       "      <td>0</td>\n",
       "      <td>0.7499906251171861</td>\n",
       "      <td>0.7499906251171861</td>\n",
       "      <td>0.999980000399992</td>\n",
       "      <td>0.8333194446759221</td>\n",
       "      <td>0.7333284444770368</td>\n",
       "      <td>0.6874957031518553</td>\n",
       "      <td>1.0</td>\n",
       "      <td>1.0</td>\n",
       "      <td>1.0</td>\n",
       "      <td>15.5</td>\n",
       "      <td>97</td>\n",
       "      <td>90</td>\n",
       "      <td>94</td>\n",
       "      <td>91</td>\n",
       "      <td>0.5487804878048781</td>\n",
       "    </tr>\n",
       "    <tr>\n",
       "      <th>331173</th>\n",
       "      <td>331173</td>\n",
       "      <td>123992</td>\n",
       "      <td>13239</td>\n",
       "      <td>can humans be immortal</td>\n",
       "      <td>how do you become immortal</td>\n",
       "      <td>1</td>\n",
       "      <td>0.4999750012499374</td>\n",
       "      <td>0.4999750012499374</td>\n",
       "      <td>0.0</td>\n",
       "      <td>0.0</td>\n",
       "      <td>0.2499937501562461</td>\n",
       "      <td>0.1999960000799984</td>\n",
       "      <td>1.0</td>\n",
       "      <td>0.0</td>\n",
       "      <td>1.0</td>\n",
       "      <td>4.5</td>\n",
       "      <td>62</td>\n",
       "      <td>58</td>\n",
       "      <td>58</td>\n",
       "      <td>65</td>\n",
       "      <td>0.4583333333333333</td>\n",
       "    </tr>\n",
       "    <tr>\n",
       "      <th>186226</th>\n",
       "      <td>186226</td>\n",
       "      <td>142312</td>\n",
       "      <td>284111</td>\n",
       "      <td>how do you stay home and make money in your pa...</td>\n",
       "      <td>what are some good ways to make money sitting ...</td>\n",
       "      <td>1</td>\n",
       "      <td>0.5999880002399952</td>\n",
       "      <td>0.4999916668055533</td>\n",
       "      <td>0.0</td>\n",
       "      <td>0.0</td>\n",
       "      <td>0.272724793410969</td>\n",
       "      <td>0.272724793410969</td>\n",
       "      <td>0.0</td>\n",
       "      <td>0.0</td>\n",
       "      <td>0.0</td>\n",
       "      <td>11.0</td>\n",
       "      <td>58</td>\n",
       "      <td>52</td>\n",
       "      <td>52</td>\n",
       "      <td>52</td>\n",
       "      <td>0.22641509433962265</td>\n",
       "    </tr>\n",
       "    <tr>\n",
       "      <th>269650</th>\n",
       "      <td>269650</td>\n",
       "      <td>387382</td>\n",
       "      <td>75256</td>\n",
       "      <td>how long does it take to become a chartered ac...</td>\n",
       "      <td>how can i become a chartered accountant in india</td>\n",
       "      <td>0</td>\n",
       "      <td>0.7499812504687383</td>\n",
       "      <td>0.5999880002399952</td>\n",
       "      <td>0.3999920001599968</td>\n",
       "      <td>0.3999920001599968</td>\n",
       "      <td>0.5555493827846357</td>\n",
       "      <td>0.4999950000499995</td>\n",
       "      <td>0.0</td>\n",
       "      <td>1.0</td>\n",
       "      <td>1.0</td>\n",
       "      <td>9.5</td>\n",
       "      <td>81</td>\n",
       "      <td>76</td>\n",
       "      <td>73</td>\n",
       "      <td>76</td>\n",
       "      <td>0.62</td>\n",
       "    </tr>\n",
       "    <tr>\n",
       "      <th>185402</th>\n",
       "      <td>185402</td>\n",
       "      <td>157661</td>\n",
       "      <td>283049</td>\n",
       "      <td>what is the difference between the centre of g...</td>\n",
       "      <td>what is the difference between centre of mass ...</td>\n",
       "      <td>0</td>\n",
       "      <td>0.7499812504687383</td>\n",
       "      <td>0.5999880002399952</td>\n",
       "      <td>0.9999833336111064</td>\n",
       "      <td>0.9999833336111064</td>\n",
       "      <td>0.7499937500520829</td>\n",
       "      <td>0.6428525510532068</td>\n",
       "      <td>0.0</td>\n",
       "      <td>1.0</td>\n",
       "      <td>2.0</td>\n",
       "      <td>13.0</td>\n",
       "      <td>92</td>\n",
       "      <td>84</td>\n",
       "      <td>81</td>\n",
       "      <td>78</td>\n",
       "      <td>0.4492753623188406</td>\n",
       "    </tr>\n",
       "    <tr>\n",
       "      <th>364857</th>\n",
       "      <td>364857</td>\n",
       "      <td>494939</td>\n",
       "      <td>191351</td>\n",
       "      <td>what is smart home platform</td>\n",
       "      <td>what is a smart home</td>\n",
       "      <td>0</td>\n",
       "      <td>0.9999500024998748</td>\n",
       "      <td>0.6666444451851604</td>\n",
       "      <td>0.9999500024998748</td>\n",
       "      <td>0.6666444451851604</td>\n",
       "      <td>0.7999840003199936</td>\n",
       "      <td>0.7999840003199936</td>\n",
       "      <td>0.0</td>\n",
       "      <td>1.0</td>\n",
       "      <td>0.0</td>\n",
       "      <td>5.0</td>\n",
       "      <td>95</td>\n",
       "      <td>77</td>\n",
       "      <td>77</td>\n",
       "      <td>90</td>\n",
       "      <td>0.5454545454545454</td>\n",
       "    </tr>\n",
       "    <tr>\n",
       "      <th>255458</th>\n",
       "      <td>255458</td>\n",
       "      <td>370360</td>\n",
       "      <td>370361</td>\n",
       "      <td>what is the most useful minor available at a c...</td>\n",
       "      <td>what are the most versatile college majors</td>\n",
       "      <td>0</td>\n",
       "      <td>0.3333222225925802</td>\n",
       "      <td>0.2499937501562461</td>\n",
       "      <td>0.7499812504687383</td>\n",
       "      <td>0.4999916668055533</td>\n",
       "      <td>0.5714204082798817</td>\n",
       "      <td>0.3999960000399996</td>\n",
       "      <td>0.0</td>\n",
       "      <td>1.0</td>\n",
       "      <td>3.0</td>\n",
       "      <td>8.5</td>\n",
       "      <td>67</td>\n",
       "      <td>66</td>\n",
       "      <td>62</td>\n",
       "      <td>58</td>\n",
       "      <td>0.2272727272727273</td>\n",
       "    </tr>\n",
       "    <tr>\n",
       "      <th>267082</th>\n",
       "      <td>267082</td>\n",
       "      <td>374475</td>\n",
       "      <td>182436</td>\n",
       "      <td>how to find lost iphone through imei number</td>\n",
       "      <td>how do i recover my lost iphone 4s  using the ...</td>\n",
       "      <td>1</td>\n",
       "      <td>0.7999840003199936</td>\n",
       "      <td>0.5714204082798817</td>\n",
       "      <td>0.3333222225925802</td>\n",
       "      <td>0.1999960000799984</td>\n",
       "      <td>0.6249921875976551</td>\n",
       "      <td>0.4166631944733794</td>\n",
       "      <td>1.0</td>\n",
       "      <td>1.0</td>\n",
       "      <td>4.0</td>\n",
       "      <td>10.0</td>\n",
       "      <td>77</td>\n",
       "      <td>69</td>\n",
       "      <td>70</td>\n",
       "      <td>68</td>\n",
       "      <td>0.2888888888888889</td>\n",
       "    </tr>\n",
       "    <tr>\n",
       "      <th>189591</th>\n",
       "      <td>189591</td>\n",
       "      <td>288385</td>\n",
       "      <td>288386</td>\n",
       "      <td>oppression  which u s  citizens are not allowe...</td>\n",
       "      <td>what are some examples of oppression today</td>\n",
       "      <td>0</td>\n",
       "      <td>0.3333222225925802</td>\n",
       "      <td>0.1666638889351844</td>\n",
       "      <td>0.4999875003124922</td>\n",
       "      <td>0.24999687503906198</td>\n",
       "      <td>0.4285653062099113</td>\n",
       "      <td>0.21428418368440225</td>\n",
       "      <td>0.0</td>\n",
       "      <td>0.0</td>\n",
       "      <td>7.0</td>\n",
       "      <td>10.5</td>\n",
       "      <td>58</td>\n",
       "      <td>49</td>\n",
       "      <td>40</td>\n",
       "      <td>49</td>\n",
       "      <td>0.25</td>\n",
       "    </tr>\n",
       "    <tr>\n",
       "      <th>335827</th>\n",
       "      <td>335827</td>\n",
       "      <td>352540</td>\n",
       "      <td>463113</td>\n",
       "      <td>who is the worst actor in bollywood besides sa...</td>\n",
       "      <td>what is the worst salman khan film</td>\n",
       "      <td>0</td>\n",
       "      <td>0.7499812504687383</td>\n",
       "      <td>0.4999916668055533</td>\n",
       "      <td>0.6666444451851604</td>\n",
       "      <td>0.4999875003124922</td>\n",
       "      <td>0.7142755103498521</td>\n",
       "      <td>0.4999950000499995</td>\n",
       "      <td>0.0</td>\n",
       "      <td>0.0</td>\n",
       "      <td>3.0</td>\n",
       "      <td>8.5</td>\n",
       "      <td>83</td>\n",
       "      <td>67</td>\n",
       "      <td>61</td>\n",
       "      <td>60</td>\n",
       "      <td>0.3888888888888889</td>\n",
       "    </tr>\n",
       "    <tr>\n",
       "      <th>183788</th>\n",
       "      <td>183788</td>\n",
       "      <td>280952</td>\n",
       "      <td>280953</td>\n",
       "      <td>what are the steps of becoming a doctor in india</td>\n",
       "      <td>how difficult is it to become  a doctor in india</td>\n",
       "      <td>0</td>\n",
       "      <td>0.4999875003124922</td>\n",
       "      <td>0.4999875003124922</td>\n",
       "      <td>0.3333277778703688</td>\n",
       "      <td>0.3333277778703688</td>\n",
       "      <td>0.3999960000399996</td>\n",
       "      <td>0.3999960000399996</td>\n",
       "      <td>1.0</td>\n",
       "      <td>0.0</td>\n",
       "      <td>0.0</td>\n",
       "      <td>10.0</td>\n",
       "      <td>67</td>\n",
       "      <td>63</td>\n",
       "      <td>67</td>\n",
       "      <td>68</td>\n",
       "      <td>0.38</td>\n",
       "    </tr>\n",
       "    <tr>\n",
       "      <th>251755</th>\n",
       "      <td>251755</td>\n",
       "      <td>365941</td>\n",
       "      <td>365942</td>\n",
       "      <td>why the rainbows are curved in shape</td>\n",
       "      <td>what is the shape of rainbow</td>\n",
       "      <td>0</td>\n",
       "      <td>0.4999750012499374</td>\n",
       "      <td>0.3333222225925802</td>\n",
       "      <td>0.2499937501562461</td>\n",
       "      <td>0.2499937501562461</td>\n",
       "      <td>0.3333277778703688</td>\n",
       "      <td>0.2857102041399409</td>\n",
       "      <td>0.0</td>\n",
       "      <td>0.0</td>\n",
       "      <td>1.0</td>\n",
       "      <td>6.5</td>\n",
       "      <td>69</td>\n",
       "      <td>69</td>\n",
       "      <td>44</td>\n",
       "      <td>52</td>\n",
       "      <td>0.26666666666666666</td>\n",
       "    </tr>\n",
       "    <tr>\n",
       "      <th>13311</th>\n",
       "      <td>13311</td>\n",
       "      <td>25574</td>\n",
       "      <td>25575</td>\n",
       "      <td>who is the best orthopedic surgeon in nyc</td>\n",
       "      <td>who own the best orthopedic surgeon in pune</td>\n",
       "      <td>0</td>\n",
       "      <td>0.7499812504687383</td>\n",
       "      <td>0.7499812504687383</td>\n",
       "      <td>0.7499812504687383</td>\n",
       "      <td>0.7499812504687383</td>\n",
       "      <td>0.7499906251171861</td>\n",
       "      <td>0.7499906251171861</td>\n",
       "      <td>0.0</td>\n",
       "      <td>1.0</td>\n",
       "      <td>0.0</td>\n",
       "      <td>8.0</td>\n",
       "      <td>91</td>\n",
       "      <td>81</td>\n",
       "      <td>88</td>\n",
       "      <td>88</td>\n",
       "      <td>0.7441860465116279</td>\n",
       "    </tr>\n",
       "    <tr>\n",
       "      <th>76497</th>\n",
       "      <td>76497</td>\n",
       "      <td>130764</td>\n",
       "      <td>130765</td>\n",
       "      <td>who is the best international bulk sms service...</td>\n",
       "      <td>which are the bulk sms service provider compan...</td>\n",
       "      <td>0</td>\n",
       "      <td>0.6666555557407376</td>\n",
       "      <td>0.5714204082798817</td>\n",
       "      <td>0.4999875003124922</td>\n",
       "      <td>0.4999875003124922</td>\n",
       "      <td>0.5999940000599994</td>\n",
       "      <td>0.545449586821938</td>\n",
       "      <td>1.0</td>\n",
       "      <td>0.0</td>\n",
       "      <td>1.0</td>\n",
       "      <td>10.5</td>\n",
       "      <td>78</td>\n",
       "      <td>72</td>\n",
       "      <td>73</td>\n",
       "      <td>74</td>\n",
       "      <td>0.43333333333333335</td>\n",
       "    </tr>\n",
       "    <tr>\n",
       "      <th>313748</th>\n",
       "      <td>313748</td>\n",
       "      <td>316047</td>\n",
       "      <td>7974</td>\n",
       "      <td>how do i prepare gate exam</td>\n",
       "      <td>what are some tips to prepare for the gate</td>\n",
       "      <td>1</td>\n",
       "      <td>0.6666444451851604</td>\n",
       "      <td>0.6666444451851604</td>\n",
       "      <td>0.0</td>\n",
       "      <td>0.0</td>\n",
       "      <td>0.3333277778703688</td>\n",
       "      <td>0.2222197531138543</td>\n",
       "      <td>0.0</td>\n",
       "      <td>0.0</td>\n",
       "      <td>3.0</td>\n",
       "      <td>7.5</td>\n",
       "      <td>63</td>\n",
       "      <td>41</td>\n",
       "      <td>53</td>\n",
       "      <td>59</td>\n",
       "      <td>0.32142857142857145</td>\n",
       "    </tr>\n",
       "    <tr>\n",
       "      <th>136917</th>\n",
       "      <td>136917</td>\n",
       "      <td>218333</td>\n",
       "      <td>218334</td>\n",
       "      <td>how do i develop android app using python  i a...</td>\n",
       "      <td>what are the constraints in using python to wr...</td>\n",
       "      <td>0</td>\n",
       "      <td>0.4999916668055533</td>\n",
       "      <td>0.4285653062099113</td>\n",
       "      <td>0.1999960000799984</td>\n",
       "      <td>0.14285510206997046</td>\n",
       "      <td>0.363633057881292</td>\n",
       "      <td>0.22222098766117968</td>\n",
       "      <td>0.0</td>\n",
       "      <td>0.0</td>\n",
       "      <td>7.0</td>\n",
       "      <td>14.5</td>\n",
       "      <td>64</td>\n",
       "      <td>59</td>\n",
       "      <td>49</td>\n",
       "      <td>51</td>\n",
       "      <td>0.21875</td>\n",
       "    </tr>\n",
       "    <tr>\n",
       "      <th>363760</th>\n",
       "      <td>363760</td>\n",
       "      <td>493773</td>\n",
       "      <td>493774</td>\n",
       "      <td>what are the best one liners that describe the...</td>\n",
       "      <td>if you had to describe your state with a one l...</td>\n",
       "      <td>0</td>\n",
       "      <td>0.3999920001599968</td>\n",
       "      <td>0.24999687503906198</td>\n",
       "      <td>0.3333277778703688</td>\n",
       "      <td>0.16666527778935175</td>\n",
       "      <td>0.2666648889007407</td>\n",
       "      <td>0.2352927335721555</td>\n",
       "      <td>0.0</td>\n",
       "      <td>0.0</td>\n",
       "      <td>2.0</td>\n",
       "      <td>16.0</td>\n",
       "      <td>60</td>\n",
       "      <td>54</td>\n",
       "      <td>44</td>\n",
       "      <td>47</td>\n",
       "      <td>0.1282051282051282</td>\n",
       "    </tr>\n",
       "    <tr>\n",
       "      <th>19347</th>\n",
       "      <td>19347</td>\n",
       "      <td>36564</td>\n",
       "      <td>36565</td>\n",
       "      <td>what is the significance of the cherubim and s...</td>\n",
       "      <td>what are the roles of the cherubim and seraphim</td>\n",
       "      <td>1</td>\n",
       "      <td>0.6666444451851604</td>\n",
       "      <td>0.6666444451851604</td>\n",
       "      <td>0.7999840003199936</td>\n",
       "      <td>0.7999840003199936</td>\n",
       "      <td>0.6666592593415629</td>\n",
       "      <td>0.6666592593415629</td>\n",
       "      <td>1.0</td>\n",
       "      <td>1.0</td>\n",
       "      <td>0.0</td>\n",
       "      <td>9.0</td>\n",
       "      <td>87</td>\n",
       "      <td>74</td>\n",
       "      <td>80</td>\n",
       "      <td>75</td>\n",
       "      <td>0.6122448979591837</td>\n",
       "    </tr>\n",
       "    <tr>\n",
       "      <th>241520</th>\n",
       "      <td>241520</td>\n",
       "      <td>353537</td>\n",
       "      <td>353538</td>\n",
       "      <td>what are the structural advantages of an arcua...</td>\n",
       "      <td>can i construct a partition wall over mid span...</td>\n",
       "      <td>0</td>\n",
       "      <td>0.0</td>\n",
       "      <td>0.0</td>\n",
       "      <td>0.3999920001599968</td>\n",
       "      <td>0.2857102041399409</td>\n",
       "      <td>0.2222197531138543</td>\n",
       "      <td>0.11111049383058984</td>\n",
       "      <td>0.0</td>\n",
       "      <td>0.0</td>\n",
       "      <td>9.0</td>\n",
       "      <td>13.5</td>\n",
       "      <td>51</td>\n",
       "      <td>49</td>\n",
       "      <td>48</td>\n",
       "      <td>48</td>\n",
       "      <td>0.15625</td>\n",
       "    </tr>\n",
       "    <tr>\n",
       "      <th>205570</th>\n",
       "      <td>205570</td>\n",
       "      <td>289967</td>\n",
       "      <td>35225</td>\n",
       "      <td>what was the main cause of the chernobyl disas...</td>\n",
       "      <td>what was the main reason behind chernobyl nucl...</td>\n",
       "      <td>1</td>\n",
       "      <td>0.7499812504687383</td>\n",
       "      <td>0.4999916668055533</td>\n",
       "      <td>0.9999666677777408</td>\n",
       "      <td>0.7499812504687383</td>\n",
       "      <td>0.6666592593415629</td>\n",
       "      <td>0.6666592593415629</td>\n",
       "      <td>1.0</td>\n",
       "      <td>1.0</td>\n",
       "      <td>0.0</td>\n",
       "      <td>9.0</td>\n",
       "      <td>89</td>\n",
       "      <td>77</td>\n",
       "      <td>79</td>\n",
       "      <td>74</td>\n",
       "      <td>0.35294117647058826</td>\n",
       "    </tr>\n",
       "    <tr>\n",
       "      <th>186119</th>\n",
       "      <td>186119</td>\n",
       "      <td>283976</td>\n",
       "      <td>158204</td>\n",
       "      <td>how do i tip for domino own delivery online</td>\n",
       "      <td>i am a pizza hut delivery driver  what are som...</td>\n",
       "      <td>0</td>\n",
       "      <td>0.4999875003124922</td>\n",
       "      <td>0.2222197531138543</td>\n",
       "      <td>0.3999920001599968</td>\n",
       "      <td>0.19999800001999984</td>\n",
       "      <td>0.4444395062277086</td>\n",
       "      <td>0.199999000005</td>\n",
       "      <td>0.0</td>\n",
       "      <td>0.0</td>\n",
       "      <td>11.0</td>\n",
       "      <td>14.5</td>\n",
       "      <td>57</td>\n",
       "      <td>45</td>\n",
       "      <td>37</td>\n",
       "      <td>41</td>\n",
       "      <td>0.2222222222222222</td>\n",
       "    </tr>\n",
       "    <tr>\n",
       "      <th>158623</th>\n",
       "      <td>158623</td>\n",
       "      <td>128346</td>\n",
       "      <td>51110</td>\n",
       "      <td>why can not a pilot pull back the yoke all the...</td>\n",
       "      <td>why can not an airplane just fly into space</td>\n",
       "      <td>0</td>\n",
       "      <td>0.0</td>\n",
       "      <td>0.0</td>\n",
       "      <td>0.4999916668055533</td>\n",
       "      <td>0.21428418368440225</td>\n",
       "      <td>0.33332962967078145</td>\n",
       "      <td>0.09374970703216552</td>\n",
       "      <td>0.0</td>\n",
       "      <td>1.0</td>\n",
       "      <td>23.0</td>\n",
       "      <td>20.5</td>\n",
       "      <td>41</td>\n",
       "      <td>34</td>\n",
       "      <td>36</td>\n",
       "      <td>59</td>\n",
       "      <td>0.2888888888888889</td>\n",
       "    </tr>\n",
       "    <tr>\n",
       "      <th>357059</th>\n",
       "      <td>357059</td>\n",
       "      <td>122829</td>\n",
       "      <td>4784</td>\n",
       "      <td>is ice more or less dense than water</td>\n",
       "      <td>is ice lighter than water</td>\n",
       "      <td>1</td>\n",
       "      <td>0.6666444451851604</td>\n",
       "      <td>0.4999875003124922</td>\n",
       "      <td>0.9999500024998748</td>\n",
       "      <td>0.4999875003124922</td>\n",
       "      <td>0.7999840003199936</td>\n",
       "      <td>0.49999375007812397</td>\n",
       "      <td>1.0</td>\n",
       "      <td>1.0</td>\n",
       "      <td>3.0</td>\n",
       "      <td>6.5</td>\n",
       "      <td>81</td>\n",
       "      <td>69</td>\n",
       "      <td>66</td>\n",
       "      <td>62</td>\n",
       "      <td>0.4444444444444444</td>\n",
       "    </tr>\n",
       "    <tr>\n",
       "      <th>325365</th>\n",
       "      <td>325365</td>\n",
       "      <td>55324</td>\n",
       "      <td>451602</td>\n",
       "      <td>what is it like to be a southerner in the nort...</td>\n",
       "      <td>in the united states  how much of a difference...</td>\n",
       "      <td>0</td>\n",
       "      <td>0.5999880002399952</td>\n",
       "      <td>0.4999916668055533</td>\n",
       "      <td>0.49999375007812397</td>\n",
       "      <td>0.4444395062277086</td>\n",
       "      <td>0.5384573964815655</td>\n",
       "      <td>0.4117622837512721</td>\n",
       "      <td>1.0</td>\n",
       "      <td>0.0</td>\n",
       "      <td>4.0</td>\n",
       "      <td>15.0</td>\n",
       "      <td>72</td>\n",
       "      <td>63</td>\n",
       "      <td>54</td>\n",
       "      <td>54</td>\n",
       "      <td>0.2272727272727273</td>\n",
       "    </tr>\n",
       "    <tr>\n",
       "      <th>400467</th>\n",
       "      <td>400467</td>\n",
       "      <td>53623</td>\n",
       "      <td>96762</td>\n",
       "      <td>what are the things that makes indians happy</td>\n",
       "      <td>what are the things that make indians happy</td>\n",
       "      <td>1</td>\n",
       "      <td>0.7499812504687383</td>\n",
       "      <td>0.7499812504687383</td>\n",
       "      <td>0.9999750006249843</td>\n",
       "      <td>0.9999750006249843</td>\n",
       "      <td>0.8749890626367172</td>\n",
       "      <td>0.8749890626367172</td>\n",
       "      <td>1.0</td>\n",
       "      <td>1.0</td>\n",
       "      <td>0.0</td>\n",
       "      <td>8.0</td>\n",
       "      <td>99</td>\n",
       "      <td>99</td>\n",
       "      <td>99</td>\n",
       "      <td>98</td>\n",
       "      <td>0.6444444444444445</td>\n",
       "    </tr>\n",
       "    <tr>\n",
       "      <th>310419</th>\n",
       "      <td>310419</td>\n",
       "      <td>434531</td>\n",
       "      <td>434532</td>\n",
       "      <td>i dont know how to talk to people</td>\n",
       "      <td>how can i learn how to talk to people</td>\n",
       "      <td>1</td>\n",
       "      <td>0.6666444451851604</td>\n",
       "      <td>0.4999875003124922</td>\n",
       "      <td>0.9999666677777408</td>\n",
       "      <td>0.7499812504687383</td>\n",
       "      <td>0.6249921875976551</td>\n",
       "      <td>0.5555493827846357</td>\n",
       "      <td>1.0</td>\n",
       "      <td>0.0</td>\n",
       "      <td>1.0</td>\n",
       "      <td>8.5</td>\n",
       "      <td>80</td>\n",
       "      <td>77</td>\n",
       "      <td>74</td>\n",
       "      <td>76</td>\n",
       "      <td>0.6571428571428571</td>\n",
       "    </tr>\n",
       "    <tr>\n",
       "      <th>402073</th>\n",
       "      <td>402073</td>\n",
       "      <td>535517</td>\n",
       "      <td>535518</td>\n",
       "      <td>what happens to cub linux website</td>\n",
       "      <td>what happens if microsoft copies source code f...</td>\n",
       "      <td>0</td>\n",
       "      <td>0.4999875003124922</td>\n",
       "      <td>0.24999687503906198</td>\n",
       "      <td>0.4999750012499374</td>\n",
       "      <td>0.1666638889351844</td>\n",
       "      <td>0.4999916668055533</td>\n",
       "      <td>0.21428418368440225</td>\n",
       "      <td>0.0</td>\n",
       "      <td>1.0</td>\n",
       "      <td>8.0</td>\n",
       "      <td>10.0</td>\n",
       "      <td>71</td>\n",
       "      <td>46</td>\n",
       "      <td>47</td>\n",
       "      <td>59</td>\n",
       "      <td>0.37142857142857133</td>\n",
       "    </tr>\n",
       "    <tr>\n",
       "      <th>258222</th>\n",
       "      <td>258222</td>\n",
       "      <td>373721</td>\n",
       "      <td>273914</td>\n",
       "      <td>why do people love breaking bad</td>\n",
       "      <td>what is the meaning of breaking bad</td>\n",
       "      <td>0</td>\n",
       "      <td>0.6666444451851604</td>\n",
       "      <td>0.4999875003124922</td>\n",
       "      <td>0.0</td>\n",
       "      <td>0.0</td>\n",
       "      <td>0.3333277778703688</td>\n",
       "      <td>0.2857102041399409</td>\n",
       "      <td>1.0</td>\n",
       "      <td>0.0</td>\n",
       "      <td>1.0</td>\n",
       "      <td>6.5</td>\n",
       "      <td>64</td>\n",
       "      <td>64</td>\n",
       "      <td>64</td>\n",
       "      <td>62</td>\n",
       "      <td>0.42424242424242425</td>\n",
       "    </tr>\n",
       "    <tr>\n",
       "      <th>216951</th>\n",
       "      <td>216951</td>\n",
       "      <td>16625</td>\n",
       "      <td>323205</td>\n",
       "      <td>how do i kiss for the first time</td>\n",
       "      <td>what are some kissing tips</td>\n",
       "      <td>0</td>\n",
       "      <td>0.0</td>\n",
       "      <td>0.0</td>\n",
       "      <td>0.0</td>\n",
       "      <td>0.0</td>\n",
       "      <td>0.0</td>\n",
       "      <td>0.0</td>\n",
       "      <td>0.0</td>\n",
       "      <td>0.0</td>\n",
       "      <td>3.0</td>\n",
       "      <td>6.5</td>\n",
       "      <td>38</td>\n",
       "      <td>38</td>\n",
       "      <td>41</td>\n",
       "      <td>48</td>\n",
       "      <td>0.17857142857142858</td>\n",
       "    </tr>\n",
       "    <tr>\n",
       "      <th>52177</th>\n",
       "      <td>52177</td>\n",
       "      <td>92431</td>\n",
       "      <td>92432</td>\n",
       "      <td>how do i convince a famous dj to accept my boo...</td>\n",
       "      <td>how should i make a girl accept my friend requ...</td>\n",
       "      <td>0</td>\n",
       "      <td>0.3333277778703688</td>\n",
       "      <td>0.2222197531138543</td>\n",
       "      <td>0.6666555557407376</td>\n",
       "      <td>0.363633057881292</td>\n",
       "      <td>0.4999958333680553</td>\n",
       "      <td>0.29999850000749995</td>\n",
       "      <td>0.0</td>\n",
       "      <td>1.0</td>\n",
       "      <td>8.0</td>\n",
       "      <td>16.0</td>\n",
       "      <td>60</td>\n",
       "      <td>52</td>\n",
       "      <td>43</td>\n",
       "      <td>58</td>\n",
       "      <td>0.18333333333333326</td>\n",
       "    </tr>\n",
       "    <tr>\n",
       "      <th>...</th>\n",
       "      <td>...</td>\n",
       "      <td>...</td>\n",
       "      <td>...</td>\n",
       "      <td>...</td>\n",
       "      <td>...</td>\n",
       "      <td>...</td>\n",
       "      <td>...</td>\n",
       "      <td>...</td>\n",
       "      <td>...</td>\n",
       "      <td>...</td>\n",
       "      <td>...</td>\n",
       "      <td>...</td>\n",
       "      <td>...</td>\n",
       "      <td>...</td>\n",
       "      <td>...</td>\n",
       "      <td>...</td>\n",
       "      <td>...</td>\n",
       "      <td>...</td>\n",
       "      <td>...</td>\n",
       "      <td>...</td>\n",
       "      <td>...</td>\n",
       "    </tr>\n",
       "    <tr>\n",
       "      <th>135846</th>\n",
       "      <td>135846</td>\n",
       "      <td>216868</td>\n",
       "      <td>216869</td>\n",
       "      <td>where can i find a list of all of the business...</td>\n",
       "      <td>how do i find all businesses in a given city</td>\n",
       "      <td>0</td>\n",
       "      <td>0.7499812504687383</td>\n",
       "      <td>0.5999880002399952</td>\n",
       "      <td>0.6666555557407376</td>\n",
       "      <td>0.49999375007812397</td>\n",
       "      <td>0.6999930000699993</td>\n",
       "      <td>0.4666635555762962</td>\n",
       "      <td>1.0</td>\n",
       "      <td>0.0</td>\n",
       "      <td>5.0</td>\n",
       "      <td>12.5</td>\n",
       "      <td>83</td>\n",
       "      <td>61</td>\n",
       "      <td>65</td>\n",
       "      <td>69</td>\n",
       "      <td>0.3695652173913043</td>\n",
       "    </tr>\n",
       "    <tr>\n",
       "      <th>240431</th>\n",
       "      <td>240431</td>\n",
       "      <td>275739</td>\n",
       "      <td>352241</td>\n",
       "      <td>how can someone with a mechanical engineering ...</td>\n",
       "      <td>how can engineering technology based on a star...</td>\n",
       "      <td>0</td>\n",
       "      <td>0.374995312558593</td>\n",
       "      <td>0.2999970000299997</td>\n",
       "      <td>0.7499812504687383</td>\n",
       "      <td>0.5999880002399952</td>\n",
       "      <td>0.4615349112699133</td>\n",
       "      <td>0.39999733335111104</td>\n",
       "      <td>0.0</td>\n",
       "      <td>1.0</td>\n",
       "      <td>2.0</td>\n",
       "      <td>14.0</td>\n",
       "      <td>61</td>\n",
       "      <td>53</td>\n",
       "      <td>45</td>\n",
       "      <td>48</td>\n",
       "      <td>0.15476190476190474</td>\n",
       "    </tr>\n",
       "    <tr>\n",
       "      <th>50222</th>\n",
       "      <td>50222</td>\n",
       "      <td>49078</td>\n",
       "      <td>15606</td>\n",
       "      <td>what is the best tv series and why</td>\n",
       "      <td>which are the best tv series to watch</td>\n",
       "      <td>1</td>\n",
       "      <td>0.9999666677777408</td>\n",
       "      <td>0.7499812504687383</td>\n",
       "      <td>0.2499937501562461</td>\n",
       "      <td>0.1999960000799984</td>\n",
       "      <td>0.49999375007812397</td>\n",
       "      <td>0.49999375007812397</td>\n",
       "      <td>0.0</td>\n",
       "      <td>0.0</td>\n",
       "      <td>0.0</td>\n",
       "      <td>8.0</td>\n",
       "      <td>79</td>\n",
       "      <td>76</td>\n",
       "      <td>73</td>\n",
       "      <td>74</td>\n",
       "      <td>0.5555555555555556</td>\n",
       "    </tr>\n",
       "    <tr>\n",
       "      <th>130138</th>\n",
       "      <td>130138</td>\n",
       "      <td>208912</td>\n",
       "      <td>208913</td>\n",
       "      <td>my device is facing the error  internal server...</td>\n",
       "      <td>how do i fix 0xc0k7b error</td>\n",
       "      <td>0</td>\n",
       "      <td>0.6666444451851604</td>\n",
       "      <td>0.16666527778935175</td>\n",
       "      <td>0.6666444451851604</td>\n",
       "      <td>0.16666527778935175</td>\n",
       "      <td>0.6666555557407376</td>\n",
       "      <td>0.13793055886014186</td>\n",
       "      <td>1.0</td>\n",
       "      <td>0.0</td>\n",
       "      <td>23.0</td>\n",
       "      <td>17.5</td>\n",
       "      <td>73</td>\n",
       "      <td>20</td>\n",
       "      <td>18</td>\n",
       "      <td>67</td>\n",
       "      <td>0.25</td>\n",
       "    </tr>\n",
       "    <tr>\n",
       "      <th>68144</th>\n",
       "      <td>68144</td>\n",
       "      <td>117816</td>\n",
       "      <td>117817</td>\n",
       "      <td>what can i do against a ceo</td>\n",
       "      <td>what does a ceo do</td>\n",
       "      <td>0</td>\n",
       "      <td>0.999900009999</td>\n",
       "      <td>0.999900009999</td>\n",
       "      <td>0.7499812504687383</td>\n",
       "      <td>0.4999916668055533</td>\n",
       "      <td>0.7999840003199936</td>\n",
       "      <td>0.5714204082798817</td>\n",
       "      <td>0.0</td>\n",
       "      <td>1.0</td>\n",
       "      <td>2.0</td>\n",
       "      <td>6.0</td>\n",
       "      <td>84</td>\n",
       "      <td>62</td>\n",
       "      <td>62</td>\n",
       "      <td>58</td>\n",
       "      <td>0.35</td>\n",
       "    </tr>\n",
       "    <tr>\n",
       "      <th>121948</th>\n",
       "      <td>121948</td>\n",
       "      <td>109308</td>\n",
       "      <td>197495</td>\n",
       "      <td>who is the all time best footballer</td>\n",
       "      <td>what would be the all time best world 11 footb...</td>\n",
       "      <td>0</td>\n",
       "      <td>0.6666444451851604</td>\n",
       "      <td>0.2857102041399409</td>\n",
       "      <td>0.4999875003124922</td>\n",
       "      <td>0.4999875003124922</td>\n",
       "      <td>0.5714204082798817</td>\n",
       "      <td>0.363633057881292</td>\n",
       "      <td>0.0</td>\n",
       "      <td>0.0</td>\n",
       "      <td>4.0</td>\n",
       "      <td>9.0</td>\n",
       "      <td>70</td>\n",
       "      <td>70</td>\n",
       "      <td>72</td>\n",
       "      <td>69</td>\n",
       "      <td>0.5135135135135135</td>\n",
       "    </tr>\n",
       "    <tr>\n",
       "      <th>69907</th>\n",
       "      <td>69907</td>\n",
       "      <td>120578</td>\n",
       "      <td>120579</td>\n",
       "      <td>is it possible to change iso level of photos s...</td>\n",
       "      <td>what is a good and reliable entry level nas  w...</td>\n",
       "      <td>0</td>\n",
       "      <td>0.33332962967078145</td>\n",
       "      <td>0.272724793410969</td>\n",
       "      <td>0.3999920001599968</td>\n",
       "      <td>0.2222197531138543</td>\n",
       "      <td>0.3124980468872069</td>\n",
       "      <td>0.23809410431378897</td>\n",
       "      <td>0.0</td>\n",
       "      <td>0.0</td>\n",
       "      <td>5.0</td>\n",
       "      <td>18.5</td>\n",
       "      <td>55</td>\n",
       "      <td>52</td>\n",
       "      <td>45</td>\n",
       "      <td>44</td>\n",
       "      <td>0.13253012048192772</td>\n",
       "    </tr>\n",
       "    <tr>\n",
       "      <th>9977</th>\n",
       "      <td>9977</td>\n",
       "      <td>19372</td>\n",
       "      <td>19373</td>\n",
       "      <td>what is the use of public activity on github  ...</td>\n",
       "      <td>is there anyway to hide the public activity on...</td>\n",
       "      <td>1</td>\n",
       "      <td>0.9999833336111064</td>\n",
       "      <td>0.9999833336111064</td>\n",
       "      <td>0.8571306124198226</td>\n",
       "      <td>0.7499906251171861</td>\n",
       "      <td>0.857136734737609</td>\n",
       "      <td>0.7999946667022221</td>\n",
       "      <td>0.0</td>\n",
       "      <td>0.0</td>\n",
       "      <td>1.0</td>\n",
       "      <td>14.5</td>\n",
       "      <td>97</td>\n",
       "      <td>97</td>\n",
       "      <td>63</td>\n",
       "      <td>65</td>\n",
       "      <td>0.3888888888888889</td>\n",
       "    </tr>\n",
       "    <tr>\n",
       "      <th>147551</th>\n",
       "      <td>147551</td>\n",
       "      <td>232845</td>\n",
       "      <td>232846</td>\n",
       "      <td>brazzerss teens in the backseat angel wicky  s...</td>\n",
       "      <td>teens in the backseat angel wicky  sam bourne ...</td>\n",
       "      <td>1</td>\n",
       "      <td>0.8999910000899991</td>\n",
       "      <td>0.8181743802329069</td>\n",
       "      <td>0.9999500024998748</td>\n",
       "      <td>0.9999500024998748</td>\n",
       "      <td>0.8461473373281744</td>\n",
       "      <td>0.7857086735094749</td>\n",
       "      <td>0.0</td>\n",
       "      <td>0.0</td>\n",
       "      <td>1.0</td>\n",
       "      <td>13.5</td>\n",
       "      <td>93</td>\n",
       "      <td>93</td>\n",
       "      <td>93</td>\n",
       "      <td>99</td>\n",
       "      <td>0.95</td>\n",
       "    </tr>\n",
       "    <tr>\n",
       "      <th>87240</th>\n",
       "      <td>87240</td>\n",
       "      <td>146966</td>\n",
       "      <td>15432</td>\n",
       "      <td>is 175cm 5 9 tall for a 14 years and 5 months ...</td>\n",
       "      <td>how well can you predict a child own  adult  h...</td>\n",
       "      <td>0</td>\n",
       "      <td>0.0</td>\n",
       "      <td>0.0</td>\n",
       "      <td>0.24999687503906198</td>\n",
       "      <td>0.24999687503906198</td>\n",
       "      <td>0.13333244445037035</td>\n",
       "      <td>0.1052626038810322</td>\n",
       "      <td>0.0</td>\n",
       "      <td>0.0</td>\n",
       "      <td>4.0</td>\n",
       "      <td>17.0</td>\n",
       "      <td>44</td>\n",
       "      <td>42</td>\n",
       "      <td>35</td>\n",
       "      <td>36</td>\n",
       "      <td>0.05333333333333334</td>\n",
       "    </tr>\n",
       "    <tr>\n",
       "      <th>318754</th>\n",
       "      <td>318754</td>\n",
       "      <td>444145</td>\n",
       "      <td>121892</td>\n",
       "      <td>how can i make a good career in the data analy...</td>\n",
       "      <td>how do i make career in data analytics</td>\n",
       "      <td>1</td>\n",
       "      <td>0.9999750006249843</td>\n",
       "      <td>0.6666555557407376</td>\n",
       "      <td>0.7499812504687383</td>\n",
       "      <td>0.4999916668055533</td>\n",
       "      <td>0.8749890626367172</td>\n",
       "      <td>0.5833284722627311</td>\n",
       "      <td>0.0</td>\n",
       "      <td>1.0</td>\n",
       "      <td>4.0</td>\n",
       "      <td>10.0</td>\n",
       "      <td>96</td>\n",
       "      <td>76</td>\n",
       "      <td>74</td>\n",
       "      <td>72</td>\n",
       "      <td>0.4</td>\n",
       "    </tr>\n",
       "    <tr>\n",
       "      <th>222139</th>\n",
       "      <td>222139</td>\n",
       "      <td>329621</td>\n",
       "      <td>329622</td>\n",
       "      <td>what is the best ide for python programming on...</td>\n",
       "      <td>what is the best free mac python ide for a beg...</td>\n",
       "      <td>0</td>\n",
       "      <td>0.5999880002399952</td>\n",
       "      <td>0.4999916668055533</td>\n",
       "      <td>0.7999840003199936</td>\n",
       "      <td>0.7999840003199936</td>\n",
       "      <td>0.6999930000699993</td>\n",
       "      <td>0.636357851292261</td>\n",
       "      <td>0.0</td>\n",
       "      <td>1.0</td>\n",
       "      <td>1.0</td>\n",
       "      <td>10.5</td>\n",
       "      <td>76</td>\n",
       "      <td>69</td>\n",
       "      <td>65</td>\n",
       "      <td>65</td>\n",
       "      <td>0.3207547169811321</td>\n",
       "    </tr>\n",
       "    <tr>\n",
       "      <th>141143</th>\n",
       "      <td>141143</td>\n",
       "      <td>110760</td>\n",
       "      <td>224145</td>\n",
       "      <td>what is the difference between keynesian and c...</td>\n",
       "      <td>what is the difference between the classical a...</td>\n",
       "      <td>1</td>\n",
       "      <td>0.7499812504687383</td>\n",
       "      <td>0.4999916668055533</td>\n",
       "      <td>0.999980000399992</td>\n",
       "      <td>0.8333194446759221</td>\n",
       "      <td>0.8888790124554172</td>\n",
       "      <td>0.5714244898250727</td>\n",
       "      <td>0.0</td>\n",
       "      <td>1.0</td>\n",
       "      <td>5.0</td>\n",
       "      <td>11.5</td>\n",
       "      <td>92</td>\n",
       "      <td>82</td>\n",
       "      <td>69</td>\n",
       "      <td>72</td>\n",
       "      <td>0.4696969696969697</td>\n",
       "    </tr>\n",
       "    <tr>\n",
       "      <th>314555</th>\n",
       "      <td>314555</td>\n",
       "      <td>297676</td>\n",
       "      <td>439295</td>\n",
       "      <td>is magic real  how do great magicians perform ...</td>\n",
       "      <td>what are the tricks used by the magicians whil...</td>\n",
       "      <td>0</td>\n",
       "      <td>0.7499812504687383</td>\n",
       "      <td>0.33332962967078145</td>\n",
       "      <td>0.4999916668055533</td>\n",
       "      <td>0.4285653062099113</td>\n",
       "      <td>0.4999958333680553</td>\n",
       "      <td>0.3333314814917695</td>\n",
       "      <td>0.0</td>\n",
       "      <td>0.0</td>\n",
       "      <td>6.0</td>\n",
       "      <td>15.0</td>\n",
       "      <td>75</td>\n",
       "      <td>58</td>\n",
       "      <td>46</td>\n",
       "      <td>54</td>\n",
       "      <td>0.1746031746031746</td>\n",
       "    </tr>\n",
       "    <tr>\n",
       "      <th>366768</th>\n",
       "      <td>366768</td>\n",
       "      <td>171</td>\n",
       "      <td>5314</td>\n",
       "      <td>how can i increase my height after 21 also</td>\n",
       "      <td>how girls can increase their height after 18 y...</td>\n",
       "      <td>1</td>\n",
       "      <td>0.4999875003124922</td>\n",
       "      <td>0.3999920001599968</td>\n",
       "      <td>0.7499812504687383</td>\n",
       "      <td>0.5999880002399952</td>\n",
       "      <td>0.5555493827846357</td>\n",
       "      <td>0.5555493827846357</td>\n",
       "      <td>0.0</td>\n",
       "      <td>1.0</td>\n",
       "      <td>0.0</td>\n",
       "      <td>9.0</td>\n",
       "      <td>83</td>\n",
       "      <td>72</td>\n",
       "      <td>76</td>\n",
       "      <td>78</td>\n",
       "      <td>0.3181818181818182</td>\n",
       "    </tr>\n",
       "    <tr>\n",
       "      <th>115562</th>\n",
       "      <td>115562</td>\n",
       "      <td>188418</td>\n",
       "      <td>188419</td>\n",
       "      <td>why did not sherlock recognize his own sister ...</td>\n",
       "      <td>why did not sherlock recognize his sister  eur...</td>\n",
       "      <td>1</td>\n",
       "      <td>0.5999880002399952</td>\n",
       "      <td>0.5999880002399952</td>\n",
       "      <td>0.999980000399992</td>\n",
       "      <td>0.7142755103498521</td>\n",
       "      <td>0.7999920000799993</td>\n",
       "      <td>0.666661111157407</td>\n",
       "      <td>0.0</td>\n",
       "      <td>1.0</td>\n",
       "      <td>2.0</td>\n",
       "      <td>11.0</td>\n",
       "      <td>87</td>\n",
       "      <td>76</td>\n",
       "      <td>78</td>\n",
       "      <td>78</td>\n",
       "      <td>0.5737704918032787</td>\n",
       "    </tr>\n",
       "    <tr>\n",
       "      <th>88552</th>\n",
       "      <td>88552</td>\n",
       "      <td>148923</td>\n",
       "      <td>148924</td>\n",
       "      <td>what are some very common mistakes people make...</td>\n",
       "      <td>l am color blind so i am able for applying lie...</td>\n",
       "      <td>0</td>\n",
       "      <td>0.0</td>\n",
       "      <td>0.0</td>\n",
       "      <td>0.0</td>\n",
       "      <td>0.0</td>\n",
       "      <td>0.0</td>\n",
       "      <td>0.0</td>\n",
       "      <td>0.0</td>\n",
       "      <td>0.0</td>\n",
       "      <td>3.0</td>\n",
       "      <td>12.5</td>\n",
       "      <td>34</td>\n",
       "      <td>33</td>\n",
       "      <td>35</td>\n",
       "      <td>40</td>\n",
       "      <td>0.05882352941176471</td>\n",
       "    </tr>\n",
       "    <tr>\n",
       "      <th>334139</th>\n",
       "      <td>334139</td>\n",
       "      <td>30249</td>\n",
       "      <td>34509</td>\n",
       "      <td>how should californians vote on 2016 own propo...</td>\n",
       "      <td>how should californians vote on 2016 own propo...</td>\n",
       "      <td>0</td>\n",
       "      <td>0.7999840003199936</td>\n",
       "      <td>0.7999840003199936</td>\n",
       "      <td>0.9999750006249843</td>\n",
       "      <td>0.9999750006249843</td>\n",
       "      <td>0.8888790124554172</td>\n",
       "      <td>0.8888790124554172</td>\n",
       "      <td>0.0</td>\n",
       "      <td>1.0</td>\n",
       "      <td>0.0</td>\n",
       "      <td>9.0</td>\n",
       "      <td>98</td>\n",
       "      <td>98</td>\n",
       "      <td>98</td>\n",
       "      <td>98</td>\n",
       "      <td>0.9298245614035088</td>\n",
       "    </tr>\n",
       "    <tr>\n",
       "      <th>195985</th>\n",
       "      <td>195985</td>\n",
       "      <td>296583</td>\n",
       "      <td>296584</td>\n",
       "      <td>what are the best taglines slogans for electro...</td>\n",
       "      <td>does iocl recruit electronics and communicatio...</td>\n",
       "      <td>0</td>\n",
       "      <td>0.1999960000799984</td>\n",
       "      <td>0.1666638889351844</td>\n",
       "      <td>0.4999750012499374</td>\n",
       "      <td>0.1999960000799984</td>\n",
       "      <td>0.2857102041399409</td>\n",
       "      <td>0.181816528940646</td>\n",
       "      <td>0.0</td>\n",
       "      <td>0.0</td>\n",
       "      <td>4.0</td>\n",
       "      <td>9.0</td>\n",
       "      <td>65</td>\n",
       "      <td>65</td>\n",
       "      <td>67</td>\n",
       "      <td>79</td>\n",
       "      <td>0.5084745762711864</td>\n",
       "    </tr>\n",
       "    <tr>\n",
       "      <th>265049</th>\n",
       "      <td>265049</td>\n",
       "      <td>381951</td>\n",
       "      <td>27912</td>\n",
       "      <td>why did so many americans vote for donald trump</td>\n",
       "      <td>will the americans actually vote donald trump</td>\n",
       "      <td>0</td>\n",
       "      <td>0.7999840003199936</td>\n",
       "      <td>0.7999840003199936</td>\n",
       "      <td>0.0</td>\n",
       "      <td>0.0</td>\n",
       "      <td>0.5714204082798817</td>\n",
       "      <td>0.4444395062277086</td>\n",
       "      <td>1.0</td>\n",
       "      <td>0.0</td>\n",
       "      <td>2.0</td>\n",
       "      <td>8.0</td>\n",
       "      <td>75</td>\n",
       "      <td>65</td>\n",
       "      <td>67</td>\n",
       "      <td>69</td>\n",
       "      <td>0.2978723404255319</td>\n",
       "    </tr>\n",
       "    <tr>\n",
       "      <th>359924</th>\n",
       "      <td>359924</td>\n",
       "      <td>489626</td>\n",
       "      <td>489627</td>\n",
       "      <td>what are the most interesting products and inn...</td>\n",
       "      <td>what are the most interesting products and inn...</td>\n",
       "      <td>0</td>\n",
       "      <td>0.8749890626367172</td>\n",
       "      <td>0.8749890626367172</td>\n",
       "      <td>0.999990000099999</td>\n",
       "      <td>0.90908264470323</td>\n",
       "      <td>0.9444391975600136</td>\n",
       "      <td>0.8947321329887737</td>\n",
       "      <td>1.0</td>\n",
       "      <td>1.0</td>\n",
       "      <td>1.0</td>\n",
       "      <td>18.5</td>\n",
       "      <td>96</td>\n",
       "      <td>92</td>\n",
       "      <td>94</td>\n",
       "      <td>93</td>\n",
       "      <td>0.5607476635514018</td>\n",
       "    </tr>\n",
       "    <tr>\n",
       "      <th>225229</th>\n",
       "      <td>225229</td>\n",
       "      <td>121599</td>\n",
       "      <td>333515</td>\n",
       "      <td>how do i see old snapchat conversations</td>\n",
       "      <td>how do i view my snapchat history</td>\n",
       "      <td>0</td>\n",
       "      <td>0.3333222225925802</td>\n",
       "      <td>0.2499937501562461</td>\n",
       "      <td>0.9999666677777408</td>\n",
       "      <td>0.7499812504687383</td>\n",
       "      <td>0.5714204082798817</td>\n",
       "      <td>0.5714204082798817</td>\n",
       "      <td>0.0</td>\n",
       "      <td>1.0</td>\n",
       "      <td>0.0</td>\n",
       "      <td>7.0</td>\n",
       "      <td>68</td>\n",
       "      <td>56</td>\n",
       "      <td>67</td>\n",
       "      <td>68</td>\n",
       "      <td>0.2857142857142857</td>\n",
       "    </tr>\n",
       "    <tr>\n",
       "      <th>177013</th>\n",
       "      <td>177013</td>\n",
       "      <td>272217</td>\n",
       "      <td>272218</td>\n",
       "      <td>any good songs to workout to</td>\n",
       "      <td>what are some great songs to workout to</td>\n",
       "      <td>1</td>\n",
       "      <td>0.6666444451851604</td>\n",
       "      <td>0.6666444451851604</td>\n",
       "      <td>0.4999750012499374</td>\n",
       "      <td>0.2499937501562461</td>\n",
       "      <td>0.4999916668055533</td>\n",
       "      <td>0.374995312558593</td>\n",
       "      <td>1.0</td>\n",
       "      <td>0.0</td>\n",
       "      <td>2.0</td>\n",
       "      <td>7.0</td>\n",
       "      <td>78</td>\n",
       "      <td>72</td>\n",
       "      <td>69</td>\n",
       "      <td>79</td>\n",
       "      <td>0.7</td>\n",
       "    </tr>\n",
       "    <tr>\n",
       "      <th>217062</th>\n",
       "      <td>217062</td>\n",
       "      <td>323339</td>\n",
       "      <td>19068</td>\n",
       "      <td>does smoking weed cause psychosis</td>\n",
       "      <td>has anyone ever died from smoking marijuana</td>\n",
       "      <td>0</td>\n",
       "      <td>0.2499937501562461</td>\n",
       "      <td>0.1999960000799984</td>\n",
       "      <td>0.0</td>\n",
       "      <td>0.0</td>\n",
       "      <td>0.1999960000799984</td>\n",
       "      <td>0.14285510206997046</td>\n",
       "      <td>0.0</td>\n",
       "      <td>0.0</td>\n",
       "      <td>2.0</td>\n",
       "      <td>6.0</td>\n",
       "      <td>45</td>\n",
       "      <td>45</td>\n",
       "      <td>34</td>\n",
       "      <td>41</td>\n",
       "      <td>0.2571428571428571</td>\n",
       "    </tr>\n",
       "    <tr>\n",
       "      <th>288083</th>\n",
       "      <td>288083</td>\n",
       "      <td>408974</td>\n",
       "      <td>408975</td>\n",
       "      <td>what is yoplait yogurt good for</td>\n",
       "      <td>why is yoplait yogurt good for you</td>\n",
       "      <td>1</td>\n",
       "      <td>0.9999666677777408</td>\n",
       "      <td>0.9999666677777408</td>\n",
       "      <td>0.6666444451851604</td>\n",
       "      <td>0.4999875003124922</td>\n",
       "      <td>0.8333194446759221</td>\n",
       "      <td>0.7142755103498521</td>\n",
       "      <td>0.0</td>\n",
       "      <td>0.0</td>\n",
       "      <td>1.0</td>\n",
       "      <td>6.5</td>\n",
       "      <td>91</td>\n",
       "      <td>89</td>\n",
       "      <td>89</td>\n",
       "      <td>94</td>\n",
       "      <td>0.8484848484848485</td>\n",
       "    </tr>\n",
       "    <tr>\n",
       "      <th>264426</th>\n",
       "      <td>264426</td>\n",
       "      <td>381183</td>\n",
       "      <td>381184</td>\n",
       "      <td>what would you think of someone that is suppos...</td>\n",
       "      <td>if you had a chance to interview steve wozniak...</td>\n",
       "      <td>0</td>\n",
       "      <td>0.33332962967078145</td>\n",
       "      <td>0.272724793410969</td>\n",
       "      <td>0.5999940000599994</td>\n",
       "      <td>0.4999958333680553</td>\n",
       "      <td>0.473681717464645</td>\n",
       "      <td>0.3749984375065104</td>\n",
       "      <td>0.0</td>\n",
       "      <td>0.0</td>\n",
       "      <td>5.0</td>\n",
       "      <td>21.5</td>\n",
       "      <td>58</td>\n",
       "      <td>49</td>\n",
       "      <td>41</td>\n",
       "      <td>44</td>\n",
       "      <td>0.15151515151515152</td>\n",
       "    </tr>\n",
       "    <tr>\n",
       "      <th>209855</th>\n",
       "      <td>209855</td>\n",
       "      <td>314252</td>\n",
       "      <td>314253</td>\n",
       "      <td>can the relationship between china and japan b...</td>\n",
       "      <td>what is the difference between the sworn enemy...</td>\n",
       "      <td>0</td>\n",
       "      <td>0.4999916668055533</td>\n",
       "      <td>0.374995312558593</td>\n",
       "      <td>0.4999916668055533</td>\n",
       "      <td>0.374995312558593</td>\n",
       "      <td>0.4285683673688045</td>\n",
       "      <td>0.39999733335111104</td>\n",
       "      <td>0.0</td>\n",
       "      <td>0.0</td>\n",
       "      <td>1.0</td>\n",
       "      <td>14.5</td>\n",
       "      <td>68</td>\n",
       "      <td>64</td>\n",
       "      <td>45</td>\n",
       "      <td>48</td>\n",
       "      <td>0.16091954022988506</td>\n",
       "    </tr>\n",
       "    <tr>\n",
       "      <th>314131</th>\n",
       "      <td>314131</td>\n",
       "      <td>438824</td>\n",
       "      <td>438825</td>\n",
       "      <td>which are the advantages to use facebook login...</td>\n",
       "      <td>what are the advantages of launching a product...</td>\n",
       "      <td>0</td>\n",
       "      <td>0.5999880002399952</td>\n",
       "      <td>0.374995312558593</td>\n",
       "      <td>0.3333277778703688</td>\n",
       "      <td>0.3333277778703688</td>\n",
       "      <td>0.454541322351615</td>\n",
       "      <td>0.33333111112592584</td>\n",
       "      <td>1.0</td>\n",
       "      <td>0.0</td>\n",
       "      <td>4.0</td>\n",
       "      <td>13.0</td>\n",
       "      <td>72</td>\n",
       "      <td>63</td>\n",
       "      <td>66</td>\n",
       "      <td>57</td>\n",
       "      <td>0.3125</td>\n",
       "    </tr>\n",
       "    <tr>\n",
       "      <th>44250</th>\n",
       "      <td>44250</td>\n",
       "      <td>28716</td>\n",
       "      <td>34406</td>\n",
       "      <td>is quora supporting hillary clinton</td>\n",
       "      <td>why is quora so completely biased towards hill...</td>\n",
       "      <td>1</td>\n",
       "      <td>0.7499812504687383</td>\n",
       "      <td>0.4999916668055533</td>\n",
       "      <td>0.999900009999</td>\n",
       "      <td>0.3333222225925802</td>\n",
       "      <td>0.7999840003199936</td>\n",
       "      <td>0.4444395062277086</td>\n",
       "      <td>1.0</td>\n",
       "      <td>0.0</td>\n",
       "      <td>4.0</td>\n",
       "      <td>7.0</td>\n",
       "      <td>81</td>\n",
       "      <td>61</td>\n",
       "      <td>63</td>\n",
       "      <td>64</td>\n",
       "      <td>0.4594594594594595</td>\n",
       "    </tr>\n",
       "    <tr>\n",
       "      <th>330046</th>\n",
       "      <td>330046</td>\n",
       "      <td>23706</td>\n",
       "      <td>76871</td>\n",
       "      <td>why is donald trump not racist</td>\n",
       "      <td>why do some people call donald trump racist</td>\n",
       "      <td>1</td>\n",
       "      <td>0.9999666677777408</td>\n",
       "      <td>0.5999880002399952</td>\n",
       "      <td>0.3333222225925802</td>\n",
       "      <td>0.3333222225925802</td>\n",
       "      <td>0.6666555557407376</td>\n",
       "      <td>0.49999375007812397</td>\n",
       "      <td>1.0</td>\n",
       "      <td>1.0</td>\n",
       "      <td>2.0</td>\n",
       "      <td>7.0</td>\n",
       "      <td>87</td>\n",
       "      <td>68</td>\n",
       "      <td>68</td>\n",
       "      <td>76</td>\n",
       "      <td>0.4375</td>\n",
       "    </tr>\n",
       "  </tbody>\n",
       "</table>\n",
       "<p>50000 rows × 21 columns</p>\n",
       "</div>"
      ],
      "text/plain": [
       "            id    qid1  ... fuzz_partial_ratio longest_substr_ratio\n",
       "59455    59455   78603  ...                 91   0.5487804878048781\n",
       "331173  331173  123992  ...                 65   0.4583333333333333\n",
       "186226  186226  142312  ...                 52  0.22641509433962265\n",
       "269650  269650  387382  ...                 76                 0.62\n",
       "185402  185402  157661  ...                 78   0.4492753623188406\n",
       "364857  364857  494939  ...                 90   0.5454545454545454\n",
       "255458  255458  370360  ...                 58   0.2272727272727273\n",
       "267082  267082  374475  ...                 68   0.2888888888888889\n",
       "189591  189591  288385  ...                 49                 0.25\n",
       "335827  335827  352540  ...                 60   0.3888888888888889\n",
       "183788  183788  280952  ...                 68                 0.38\n",
       "251755  251755  365941  ...                 52  0.26666666666666666\n",
       "13311    13311   25574  ...                 88   0.7441860465116279\n",
       "76497    76497  130764  ...                 74  0.43333333333333335\n",
       "313748  313748  316047  ...                 59  0.32142857142857145\n",
       "136917  136917  218333  ...                 51              0.21875\n",
       "363760  363760  493773  ...                 47   0.1282051282051282\n",
       "19347    19347   36564  ...                 75   0.6122448979591837\n",
       "241520  241520  353537  ...                 48              0.15625\n",
       "205570  205570  289967  ...                 74  0.35294117647058826\n",
       "186119  186119  283976  ...                 41   0.2222222222222222\n",
       "158623  158623  128346  ...                 59   0.2888888888888889\n",
       "357059  357059  122829  ...                 62   0.4444444444444444\n",
       "325365  325365   55324  ...                 54   0.2272727272727273\n",
       "400467  400467   53623  ...                 98   0.6444444444444445\n",
       "310419  310419  434531  ...                 76   0.6571428571428571\n",
       "402073  402073  535517  ...                 59  0.37142857142857133\n",
       "258222  258222  373721  ...                 62  0.42424242424242425\n",
       "216951  216951   16625  ...                 48  0.17857142857142858\n",
       "52177    52177   92431  ...                 58  0.18333333333333326\n",
       "...        ...     ...  ...                ...                  ...\n",
       "135846  135846  216868  ...                 69   0.3695652173913043\n",
       "240431  240431  275739  ...                 48  0.15476190476190474\n",
       "50222    50222   49078  ...                 74   0.5555555555555556\n",
       "130138  130138  208912  ...                 67                 0.25\n",
       "68144    68144  117816  ...                 58                 0.35\n",
       "121948  121948  109308  ...                 69   0.5135135135135135\n",
       "69907    69907  120578  ...                 44  0.13253012048192772\n",
       "9977      9977   19372  ...                 65   0.3888888888888889\n",
       "147551  147551  232845  ...                 99                 0.95\n",
       "87240    87240  146966  ...                 36  0.05333333333333334\n",
       "318754  318754  444145  ...                 72                  0.4\n",
       "222139  222139  329621  ...                 65   0.3207547169811321\n",
       "141143  141143  110760  ...                 72   0.4696969696969697\n",
       "314555  314555  297676  ...                 54   0.1746031746031746\n",
       "366768  366768     171  ...                 78   0.3181818181818182\n",
       "115562  115562  188418  ...                 78   0.5737704918032787\n",
       "88552    88552  148923  ...                 40  0.05882352941176471\n",
       "334139  334139   30249  ...                 98   0.9298245614035088\n",
       "195985  195985  296583  ...                 79   0.5084745762711864\n",
       "265049  265049  381951  ...                 69   0.2978723404255319\n",
       "359924  359924  489626  ...                 93   0.5607476635514018\n",
       "225229  225229  121599  ...                 68   0.2857142857142857\n",
       "177013  177013  272217  ...                 79                  0.7\n",
       "217062  217062  323339  ...                 41   0.2571428571428571\n",
       "288083  288083  408974  ...                 94   0.8484848484848485\n",
       "264426  264426  381183  ...                 44  0.15151515151515152\n",
       "209855  209855  314252  ...                 48  0.16091954022988506\n",
       "314131  314131  438824  ...                 57               0.3125\n",
       "44250    44250   28716  ...                 64   0.4594594594594595\n",
       "330046  330046   23706  ...                 76               0.4375\n",
       "\n",
       "[50000 rows x 21 columns]"
      ]
     },
     "execution_count": 24,
     "metadata": {
      "tags": []
     },
     "output_type": "execute_result"
    }
   ],
   "source": [
    "sample_df.fillna('')"
   ]
  },
  {
   "cell_type": "code",
   "execution_count": 0,
   "metadata": {
    "colab": {},
    "colab_type": "code",
    "id": "sZ_M98I9lKLk"
   },
   "outputs": [],
   "source": [
    "# merge texts\n",
    "questions = list(sample_df['question1']) + list(sample_df['question2'])"
   ]
  },
  {
   "cell_type": "code",
   "execution_count": 0,
   "metadata": {
    "colab": {},
    "colab_type": "code",
    "id": "MsTuGcYfE8iA"
   },
   "outputs": [],
   "source": [
    "y = sample_df['is_duplicate']\n",
    "sample_df.drop(['is_duplicate'],axis =1, inplace=True)"
   ]
  },
  {
   "cell_type": "code",
   "execution_count": 0,
   "metadata": {
    "colab": {
     "base_uri": "https://localhost:8080/",
     "height": 119
    },
    "colab_type": "code",
    "id": "SsJhdCPs5Tbu",
    "outputId": "743e11cf-1040-436a-c667-c5b5c1226a76"
   },
   "outputs": [
    {
     "data": {
      "text/plain": [
       "Index(['id', 'qid1', 'qid2', 'question1', 'question2', 'cwc_min', 'cwc_max',\n",
       "       'csc_min', 'csc_max', 'ctc_min', 'ctc_max', 'last_word_eq',\n",
       "       'first_word_eq', 'abs_len_diff', 'mean_len', 'token_set_ratio',\n",
       "       'token_sort_ratio', 'fuzz_ratio', 'fuzz_partial_ratio',\n",
       "       'longest_substr_ratio'],\n",
       "      dtype='object')"
      ]
     },
     "execution_count": 28,
     "metadata": {
      "tags": []
     },
     "output_type": "execute_result"
    }
   ],
   "source": [
    "sample_df.columns"
   ]
  },
  {
   "cell_type": "code",
   "execution_count": 0,
   "metadata": {
    "colab": {},
    "colab_type": "code",
    "id": "CnwIGAianTwu"
   },
   "outputs": [],
   "source": [
    "from sklearn.preprocessing import StandardScaler\n",
    "sample_df[['cwc_min', 'cwc_max',\n",
    "       'csc_min', 'csc_max', 'ctc_min', 'ctc_max', 'last_word_eq',\n",
    "       'first_word_eq', 'abs_len_diff', 'mean_len', 'token_set_ratio',\n",
    "       'token_sort_ratio', 'fuzz_ratio', 'fuzz_partial_ratio',\n",
    "       'longest_substr_ratio']] = StandardScaler().fit_transform(sample_df[['cwc_min', 'cwc_max',\n",
    "       'csc_min', 'csc_max', 'ctc_min', 'ctc_max', 'last_word_eq',\n",
    "       'first_word_eq', 'abs_len_diff', 'mean_len', 'token_set_ratio',\n",
    "       'token_sort_ratio', 'fuzz_ratio', 'fuzz_partial_ratio',\n",
    "       'longest_substr_ratio']])"
   ]
  },
  {
   "cell_type": "code",
   "execution_count": 0,
   "metadata": {
    "colab": {},
    "colab_type": "code",
    "id": "Nw0RlM24ows0"
   },
   "outputs": [],
   "source": [
    "X_train,X_test, y_train, y_test = train_test_split(sample_df, y, stratify=y, test_size=0.3)"
   ]
  },
  {
   "cell_type": "code",
   "execution_count": 0,
   "metadata": {
    "colab": {},
    "colab_type": "code",
    "id": "DHKeWUPvs_R9"
   },
   "outputs": [],
   "source": [
    "from sklearn.feature_extraction.text import TfidfVectorizer\n",
    "from sklearn.feature_extraction.text import CountVectorizer\n",
    "\n",
    "\n",
    "tfidf = TfidfVectorizer(lowercase=False, max_features= 2000)\n",
    "vec_tr = tfidf.fit_transform(list(X_train['question1'])+list(X_train['question2']))\n",
    "vec_te = tfidf.transform(list(X_test['question1'])+list(X_test['question2']))"
   ]
  },
  {
   "cell_type": "code",
   "execution_count": 0,
   "metadata": {
    "colab": {},
    "colab_type": "code",
    "id": "kbjhG829sx-9"
   },
   "outputs": [],
   "source": [
    "def to_df(data):\n",
    "  len_ = int(data.shape[0]/2)\n",
    "  q1 = data[:len_].todense()\n",
    "  q2 = data[len_:].todense()\n",
    "  \n",
    "  idx_x = ['x_' + str(i) for i in range(0,q1.shape[1])]\n",
    "  idx_y = ['y_' + str(i) for i in range(0,q2.shape[1])]\n",
    "  \n",
    "  q1_df = pd.DataFrame(q1,columns= idx_x)\n",
    "  q2_df = pd.DataFrame(q2,columns= idx_y)\n",
    "  \n",
    "  tfidf_features = pd.concat([q1_df,q2_df],axis = 1)\n",
    "  \n",
    "  return tfidf_features"
   ]
  },
  {
   "cell_type": "code",
   "execution_count": 0,
   "metadata": {
    "colab": {},
    "colab_type": "code",
    "id": "GtbQr-0QtzOw"
   },
   "outputs": [],
   "source": [
    "X_tr = to_df(vec_tr)"
   ]
  },
  {
   "cell_type": "code",
   "execution_count": 0,
   "metadata": {
    "colab": {},
    "colab_type": "code",
    "id": "SBmX6VodwhuT"
   },
   "outputs": [],
   "source": [
    "X_te = to_df(vec_te)"
   ]
  },
  {
   "cell_type": "code",
   "execution_count": 0,
   "metadata": {
    "colab": {},
    "colab_type": "code",
    "id": "9dWwCpZUu1Ov"
   },
   "outputs": [],
   "source": [
    "import pickle\n",
    "with open('Colab Notebooks/x_tr.pkl','wb') as f:\n",
    "  pickle.dump((X_tr,y_train),f)\n",
    "\n",
    "with open('Colab Notebooks/x_te.pkl','wb') as f:\n",
    "  pickle.dump((X_te,y_test),f)"
   ]
  },
  {
   "cell_type": "code",
   "execution_count": 0,
   "metadata": {
    "colab": {},
    "colab_type": "code",
    "id": "Md_7SBedCWYV"
   },
   "outputs": [],
   "source": [
    "y_train = list(map(int,y_train))\n",
    "y_test = list(map(int,y_test))"
   ]
  },
  {
   "cell_type": "markdown",
   "metadata": {
    "colab_type": "text",
    "id": "usHMhFZ_D3Ra"
   },
   "source": [
    "# Logistic Regression with simple tf-idf"
   ]
  },
  {
   "cell_type": "code",
   "execution_count": 0,
   "metadata": {
    "colab": {
     "base_uri": "https://localhost:8080/",
     "height": 743
    },
    "colab_type": "code",
    "id": "O7_wYJAYDPPv",
    "outputId": "17cdc982-1faa-4418-a742-10f8511d6892"
   },
   "outputs": [
    {
     "name": "stdout",
     "output_type": "stream",
     "text": [
      "For values of alpha =  1e-05 The log loss is: 0.5601654064024454\n",
      "For values of alpha =  0.0001 The log loss is: 0.5485267388634054\n",
      "For values of alpha =  0.001 The log loss is: 0.5626700277585442\n",
      "For values of alpha =  0.01 The log loss is: 0.5872810036061259\n",
      "For values of alpha =  0.1 The log loss is: 0.5986925516027887\n",
      "For values of alpha =  1 The log loss is: 0.5997493314728551\n",
      "For values of alpha =  10 The log loss is: 0.6128037545846011\n"
     ]
    },
    {
     "data": {
      "image/png": "[encoded data removed]",
      "text/plain": [
       "<Figure size 432x288 with 1 Axes>"
      ]
     },
     "metadata": {
      "tags": []
     },
     "output_type": "display_data"
    },
    {
     "name": "stdout",
     "output_type": "stream",
     "text": [
      "For values of best alpha =  0.0001 The train log loss is: 0.516409978830354\n",
      "For values of best alpha =  0.0001 The test log loss is: 0.5485267388634054\n",
      "Total number of data points : 15000\n"
     ]
    },
    {
     "data": {
      "image/png": "[encoded data removed]",
      "text/plain": [
       "<Figure size 1440x288 with 6 Axes>"
      ]
     },
     "metadata": {
      "tags": []
     },
     "output_type": "display_data"
    }
   ],
   "source": [
    "alpha = [10 ** x for x in range(-5, 2)] # hyperparam for SGD classifier.\n",
    "\n",
    "# read more about SGDClassifier() at http://scikit-learn.org/stable/modules/generated/sklearn.linear_model.SGDClassifier.html\n",
    "# ------------------------------\n",
    "# default parameters\n",
    "# SGDClassifier(loss=’hinge’, penalty=’l2’, alpha=0.0001, l1_ratio=0.15, fit_intercept=True, max_iter=None, tol=None, \n",
    "# shuffle=True, verbose=0, epsilon=0.1, n_jobs=1, random_state=None, learning_rate=’optimal’, eta0=0.0, power_t=0.5, \n",
    "# class_weight=None, warm_start=False, average=False, n_iter=None)\n",
    "\n",
    "# some of methods\n",
    "# fit(X, y[, coef_init, intercept_init, …])\tFit linear model with Stochastic Gradient Descent.\n",
    "# predict(X)\tPredict class labels for samples in X.\n",
    "\n",
    "#-------------------------------\n",
    "# video link: \n",
    "#------------------------------\n",
    "\n",
    "\n",
    "log_error_array=[]\n",
    "for i in alpha:\n",
    "    clf = SGDClassifier(alpha=i, penalty='l2', loss='log', class_weight = 'balanced',random_state=42)\n",
    "    clf.fit(X_tr, y_train)\n",
    "    sig_clf = CalibratedClassifierCV(clf, method=\"sigmoid\")\n",
    "    sig_clf.fit(X_tr, y_train)\n",
    "    predict_y = sig_clf.predict_proba(X_te)\n",
    "    log_error_array.append(log_loss(y_test, predict_y, labels=clf.classes_, eps=1e-15))\n",
    "    print('For values of alpha = ', i, \"The log loss is:\",log_loss(y_test, predict_y, labels=clf.classes_, eps=1e-15))\n",
    "\n",
    "fig, ax = plt.subplots()\n",
    "ax.plot(alpha, log_error_array,c='g')\n",
    "for i, txt in enumerate(np.round(log_error_array,3)):\n",
    "    ax.annotate((alpha[i],np.round(txt,3)), (alpha[i],log_error_array[i]))\n",
    "plt.grid()\n",
    "plt.title(\"Cross Validation Error for each alpha\")\n",
    "plt.xlabel(\"Alpha i's\")\n",
    "plt.ylabel(\"Error measure\")\n",
    "plt.show()\n",
    "\n",
    "\n",
    "best_alpha = np.argmin(log_error_array)\n",
    "clf = SGDClassifier(alpha=alpha[best_alpha], penalty='l2', loss='log', class_weight = 'balanced',random_state=42)\n",
    "clf.fit(X_tr, y_train)\n",
    "sig_clf = CalibratedClassifierCV(clf, method=\"sigmoid\")\n",
    "sig_clf.fit(X_tr, y_train)\n",
    "\n",
    "predict_y = sig_clf.predict_proba(X_tr)\n",
    "print('For values of best alpha = ', alpha[best_alpha], \"The train log loss is:\",log_loss(y_train, predict_y, labels=clf.classes_, eps=1e-15))\n",
    "predict_y = sig_clf.predict_proba(X_te)\n",
    "print('For values of best alpha = ', alpha[best_alpha], \"The test log loss is:\",log_loss(y_test, predict_y, labels=clf.classes_, eps=1e-15))\n",
    "predicted_y =np.argmax(predict_y,axis=1)\n",
    "print(\"Total number of data points :\", len(predicted_y))\n",
    "plot_confusion_matrix(y_test, predicted_y)"
   ]
  },
  {
   "cell_type": "markdown",
   "metadata": {
    "colab_type": "text",
    "id": "s8ywEX3bKuOy"
   },
   "source": [
    "# Linear SVM with simple tf-idf"
   ]
  },
  {
   "cell_type": "code",
   "execution_count": 0,
   "metadata": {
    "colab": {
     "base_uri": "https://localhost:8080/",
     "height": 743
    },
    "colab_type": "code",
    "id": "bnZ4JdMNDzUW",
    "outputId": "780e035d-e4a6-4edc-cf9d-2a9aeb8104a6"
   },
   "outputs": [
    {
     "name": "stdout",
     "output_type": "stream",
     "text": [
      "For values of alpha =  1e-05 The log loss is: 0.575299672471695\n",
      "For values of alpha =  0.0001 The log loss is: 0.5582927884622025\n",
      "For values of alpha =  0.001 The log loss is: 0.6080293190705774\n",
      "For values of alpha =  0.01 The log loss is: 0.657521167470038\n",
      "For values of alpha =  0.1 The log loss is: 0.6575211674700377\n",
      "For values of alpha =  1 The log loss is: 0.657521167470038\n",
      "For values of alpha =  10 The log loss is: 0.657521167470038\n"
     ]
    },
    {
     "data": {
      "image/png": "[encoded data removed]",
      "text/plain": [
       "<Figure size 432x288 with 1 Axes>"
      ]
     },
     "metadata": {
      "tags": []
     },
     "output_type": "display_data"
    },
    {
     "name": "stdout",
     "output_type": "stream",
     "text": [
      "For values of best alpha =  0.0001 The train log loss is: 0.5323848515475809\n",
      "For values of best alpha =  0.0001 The test log loss is: 0.5582927884622025\n",
      "Total number of data points : 15000\n"
     ]
    },
    {
     "data": {
      "image/png": "[encoded data removed]",
      "text/plain": [
       "<Figure size 1440x288 with 6 Axes>"
      ]
     },
     "metadata": {
      "tags": []
     },
     "output_type": "display_data"
    }
   ],
   "source": [
    "alpha = [10 ** x for x in range(-5, 2)] # hyperparam for SGD classifier.\n",
    "\n",
    "# read more about SGDClassifier() at http://scikit-learn.org/stable/modules/generated/sklearn.linear_model.SGDClassifier.html\n",
    "# ------------------------------\n",
    "# default parameters\n",
    "# SGDClassifier(loss=’hinge’, penalty=’l2’, alpha=0.0001, l1_ratio=0.15, fit_intercept=True, max_iter=None, tol=None, \n",
    "# shuffle=True, verbose=0, epsilon=0.1, n_jobs=1, random_state=None, learning_rate=’optimal’, eta0=0.0, power_t=0.5, \n",
    "# class_weight=None, warm_start=False, average=False, n_iter=None)\n",
    "\n",
    "# some of methods\n",
    "# fit(X, y[, coef_init, intercept_init, …])\tFit linear model with Stochastic Gradient Descent.\n",
    "# predict(X)\tPredict class labels for samples in X.\n",
    "\n",
    "#-------------------------------\n",
    "# video link: \n",
    "#------------------------------\n",
    "\n",
    "\n",
    "log_error_array=[]\n",
    "for i in alpha:\n",
    "    clf = SGDClassifier(alpha=i, penalty='l1', loss='hinge',class_weight ='balanced', random_state=42)\n",
    "    clf.fit(X_tr, y_train)\n",
    "    sig_clf = CalibratedClassifierCV(clf, method=\"sigmoid\")\n",
    "    sig_clf.fit(X_tr, y_train)\n",
    "    predict_y = sig_clf.predict_proba(X_te)\n",
    "    log_error_array.append(log_loss(y_test, predict_y, labels=clf.classes_, eps=1e-15))\n",
    "    print('For values of alpha = ', i, \"The log loss is:\",log_loss(y_test, predict_y, labels=clf.classes_, eps=1e-15))\n",
    "\n",
    "fig, ax = plt.subplots()\n",
    "ax.plot(alpha, log_error_array,c='g')\n",
    "for i, txt in enumerate(np.round(log_error_array,3)):\n",
    "    ax.annotate((alpha[i],np.round(txt,3)), (alpha[i],log_error_array[i]))\n",
    "plt.grid()\n",
    "plt.title(\"Cross Validation Error for each alpha\")\n",
    "plt.xlabel(\"Alpha i's\")\n",
    "plt.ylabel(\"Error measure\")\n",
    "plt.show()\n",
    "\n",
    "\n",
    "best_alpha = np.argmin(log_error_array)\n",
    "clf = SGDClassifier(alpha=alpha[best_alpha], penalty='l1', loss='hinge', class_weight = 'balanced', random_state=42)\n",
    "clf.fit(X_tr, y_train)\n",
    "sig_clf = CalibratedClassifierCV(clf, method=\"sigmoid\")\n",
    "sig_clf.fit(X_tr, y_train)\n",
    "\n",
    "predict_y = sig_clf.predict_proba(X_tr)\n",
    "print('For values of best alpha = ', alpha[best_alpha], \"The train log loss is:\",log_loss(y_train, predict_y, labels=clf.classes_, eps=1e-15))\n",
    "predict_y = sig_clf.predict_proba(X_te)\n",
    "print('For values of best alpha = ', alpha[best_alpha], \"The test log loss is:\",log_loss(y_test, predict_y, labels=clf.classes_, eps=1e-15))\n",
    "predicted_y =np.argmax(predict_y,axis=1)\n",
    "print(\"Total number of data points :\", len(predicted_y))\n",
    "plot_confusion_matrix(y_test, predicted_y)"
   ]
  },
  {
   "cell_type": "markdown",
   "metadata": {
    "colab_type": "text",
    "id": "Ig9juygi5bGn"
   },
   "source": [
    "# Hyperparameter tune XgBoost using RandomSearch"
   ]
  },
  {
   "cell_type": "code",
   "execution_count": 0,
   "metadata": {
    "colab": {},
    "colab_type": "code",
    "id": "oOQD4vRysFAG"
   },
   "outputs": [],
   "source": [
    "df = pd.read_csv(\"Quora/train.csv\")\n",
    "df = df.sample(n=50000)\n",
    "# encode questions to unicode\n",
    "# https://stackoverflow.com/a/6812069\n",
    "# ----------------- python 2 ---------------------\n",
    "# df['question1'] = df['question1'].apply(lambda x: unicode(str(x),\"utf-8\"))\n",
    "# df['question2'] = df['question2'].apply(lambda x: unicode(str(x),\"utf-8\"))\n",
    "# ----------------- python 3 ---------------------\n",
    "df['question1'] = df['question1'].apply(lambda x: str(x))\n",
    "df['question2'] = df['question2'].apply(lambda x: str(x))"
   ]
  },
  {
   "cell_type": "code",
   "execution_count": 0,
   "metadata": {
    "colab": {},
    "colab_type": "code",
    "id": "804_8Zj0spZO"
   },
   "outputs": [],
   "source": [
    "y = df['is_duplicate']"
   ]
  },
  {
   "cell_type": "code",
   "execution_count": 0,
   "metadata": {
    "colab": {
     "base_uri": "https://localhost:8080/",
     "height": 34
    },
    "colab_type": "code",
    "id": "Hc7Rb2XbtUi6",
    "outputId": "b5fa08e4-769e-4fcf-8d97-e9f1dcbada3d"
   },
   "outputs": [
    {
     "data": {
      "text/plain": [
       "((50000, 6), 50000)"
      ]
     },
     "execution_count": 7,
     "metadata": {
      "tags": []
     },
     "output_type": "execute_result"
    }
   ],
   "source": [
    "df.shape , len(y)"
   ]
  },
  {
   "cell_type": "code",
   "execution_count": 0,
   "metadata": {
    "colab": {},
    "colab_type": "code",
    "id": "rpTPGQ7qLaW2"
   },
   "outputs": [],
   "source": [
    "X_tr,X_te,y_tr,y_te = train_test_split(df,y,stratify=y, test_size=0.3)"
   ]
  },
  {
   "cell_type": "code",
   "execution_count": 0,
   "metadata": {
    "colab": {},
    "colab_type": "code",
    "id": "2qp8eX7vsawt"
   },
   "outputs": [],
   "source": [
    "from sklearn.feature_extraction.text import TfidfVectorizer\n",
    "from sklearn.feature_extraction.text import CountVectorizer\n",
    "\n",
    "tfidf = TfidfVectorizer(lowercase=False, max_features=2000)\n",
    "tfidf.fit_transform(X_tr)\n",
    "\n",
    "\n",
    "\n",
    "# dict key:word and value:tf-idf score\n",
    "word2tfidf = dict(zip(tfidf.get_feature_names(), tfidf.idf_))"
   ]
  },
  {
   "cell_type": "code",
   "execution_count": 0,
   "metadata": {
    "colab": {},
    "colab_type": "code",
    "id": "692ENTGfuO17"
   },
   "outputs": [],
   "source": [
    "import spacy\n",
    "from tqdm import tqdm\n",
    "\n",
    "nlp = spacy.load('en_core_web_sm')\n",
    "def Vectorize(file):\n",
    "  # merge texts\n",
    "  questions = list(file['question1']) + list(file['question2'])\n",
    "  vecs1 = []\n",
    "  vecs2 = []\n",
    "  # https://github.com/noamraph/tqdm\n",
    "  # tqdm is used to print the progress bar\n",
    "  for qu1 in tqdm(list(file['question1'])):\n",
    "      doc1 = nlp(qu1) \n",
    "      # 384 is the number of dimensions of vectors \n",
    "      mean_vec1 = np.zeros([len(doc1), len(doc1[0].vector)])\n",
    "      for word1 in doc1:\n",
    "          # word2vec\n",
    "          vec1 = word1.vector\n",
    "          # fetch df score\n",
    "          try:\n",
    "              idf = word2tfidf[str(word1)]\n",
    "          except:\n",
    "              idf = 0\n",
    "          # compute final vec\n",
    "          mean_vec1 += vec1 * idf\n",
    "      mean_vec1 = mean_vec1.mean(axis=0)\n",
    "      vecs1.append(mean_vec1)\n",
    "  \n",
    "  for qu1 in tqdm(list(file['question2'])):\n",
    "      doc1 = nlp(qu1) \n",
    "      # 384 is the number of dimensions of vectors \n",
    "      mean_vec1 = np.zeros([len(doc1), len(doc1[0].vector)])\n",
    "      for word1 in doc1:\n",
    "          # word2vec\n",
    "          vec1 = word1.vector\n",
    "          # fetch df score\n",
    "          try:\n",
    "              idf = word2tfidf[str(word1)]\n",
    "          except:\n",
    "              idf = 0\n",
    "          # compute final vec\n",
    "          mean_vec1 += vec1 * idf\n",
    "      mean_vec1 = mean_vec1.mean(axis=0)\n",
    "      vecs2.append(mean_vec1)\n",
    "      \n",
    "  file['q1_feats_m'] = list(vecs1)\n",
    "  file['q2_feats_m'] = list(vecs1)\n",
    "  return file\n"
   ]
  },
  {
   "cell_type": "code",
   "execution_count": 0,
   "metadata": {
    "colab": {
     "base_uri": "https://localhost:8080/",
     "height": 51
    },
    "colab_type": "code",
    "id": "evIwFqQDurAA",
    "outputId": "827c525e-0b6c-4b88-f0ff-98def1b05abe"
   },
   "outputs": [
    {
     "name": "stderr",
     "output_type": "stream",
     "text": [
      "100%|██████████| 35000/35000 [07:31<00:00, 77.54it/s]\n",
      "100%|██████████| 35000/35000 [07:12<00:00, 80.88it/s]\n"
     ]
    }
   ],
   "source": [
    "X_tr_tfidf = Vectorize(X_tr)"
   ]
  },
  {
   "cell_type": "code",
   "execution_count": 0,
   "metadata": {
    "colab": {},
    "colab_type": "code",
    "id": "GkOw63743ros"
   },
   "outputs": [],
   "source": [
    "if os.path.isfile('Quora/nlp_features_train.csv'):\n",
    "    dfnlp = pd.read_csv(\"Quora/nlp_features_train.csv\",encoding='latin-1')\n",
    "else:\n",
    "    print(\"download nlp_features_train.csv from drive or run previous notebook\")\n",
    "\n",
    "if os.path.isfile('Quora/df_fe_without_preprocessing_train.csv'):\n",
    "    dfppro = pd.read_csv(\"Quora/df_fe_without_preprocessing_train.csv\",encoding='latin-1')\n",
    "else:\n",
    "    print(\"download df_fe_without_preprocessing_train.csv from drive or run previous notebook\")"
   ]
  },
  {
   "cell_type": "code",
   "execution_count": 0,
   "metadata": {
    "colab": {},
    "colab_type": "code",
    "id": "b1jiVNRe200m"
   },
   "outputs": [],
   "source": [
    "df1 = dfnlp.drop(['qid1','qid2','question1','question2'],axis=1)\n",
    "df2 = dfppro.drop(['qid1','qid2','question1','question2','is_duplicate'],axis=1)\n",
    "df3 = X_tr_tfidf.drop(['qid1','qid2','question1','question2','is_duplicate'],axis=1)\n",
    "df3_q1 = pd.DataFrame(df3.q1_feats_m.values.tolist(), index= df3.index)\n",
    "df3_q2 = pd.DataFrame(df3.q2_feats_m.values.tolist(), index= df3.index)\n"
   ]
  },
  {
   "cell_type": "code",
   "execution_count": 0,
   "metadata": {
    "colab": {},
    "colab_type": "code",
    "id": "WFjBA_Xs3ICL"
   },
   "outputs": [],
   "source": [
    "df3_q1['id']=df1['id']\n",
    "df3_q2['id']=df1['id']\n",
    "df2  = df3_q1.merge(df3_q2, on='id',how='left')\n",
    "df1  = df1.merge(df2, on='id',how='left')\n",
    "result_tr  = df2.merge(df1, on='id',how='left')"
   ]
  },
  {
   "cell_type": "code",
   "execution_count": 0,
   "metadata": {
    "colab": {
     "base_uri": "https://localhost:8080/",
     "height": 34
    },
    "colab_type": "code",
    "id": "Ixu5SK1k4jpG",
    "outputId": "7b3e5fc5-b428-4411-abfc-570b81d11363"
   },
   "outputs": [
    {
     "data": {
      "text/plain": [
       "(35000, 1553)"
      ]
     },
     "execution_count": 27,
     "metadata": {
      "tags": []
     },
     "output_type": "execute_result"
    }
   ],
   "source": [
    "result_tr.shape"
   ]
  },
  {
   "cell_type": "code",
   "execution_count": 0,
   "metadata": {
    "colab": {},
    "colab_type": "code",
    "id": "2mw2A1yRClJn"
   },
   "outputs": [],
   "source": [
    "import pickle\n",
    "\n",
    "with open('result_tr.pkl','wb') as f:\n",
    "  pickle.dump((result_tr,y_tr),f)"
   ]
  },
  {
   "cell_type": "code",
   "execution_count": 0,
   "metadata": {
    "colab": {},
    "colab_type": "code",
    "id": "Qbg9kL_oJSYZ"
   },
   "outputs": [],
   "source": [
    "result_tr,y_tr = pickle.load(open('result_tr.pkl','rb'))"
   ]
  },
  {
   "cell_type": "code",
   "execution_count": 0,
   "metadata": {
    "colab": {
     "base_uri": "https://localhost:8080/",
     "height": 51
    },
    "colab_type": "code",
    "id": "NMxwMnb6xg9h",
    "outputId": "7135dfc5-419d-4d6d-fef7-9c10f9df2d30"
   },
   "outputs": [
    {
     "name": "stderr",
     "output_type": "stream",
     "text": [
      "100%|██████████| 15000/15000 [03:15<00:00, 76.87it/s]\n",
      "100%|██████████| 15000/15000 [03:15<00:00, 82.78it/s]\n"
     ]
    }
   ],
   "source": [
    "X_te_tfidf = Vectorize(X_te)"
   ]
  },
  {
   "cell_type": "code",
   "execution_count": 0,
   "metadata": {
    "colab": {
     "base_uri": "https://localhost:8080/",
     "height": 34
    },
    "colab_type": "code",
    "id": "JLDSckPyJjez",
    "outputId": "523d2337-3793-4141-f779-62df697c1c17"
   },
   "outputs": [
    {
     "data": {
      "text/plain": [
       "(15000, 8)"
      ]
     },
     "execution_count": 16,
     "metadata": {
      "tags": []
     },
     "output_type": "execute_result"
    }
   ],
   "source": [
    "X_te_tfidf.shape"
   ]
  },
  {
   "cell_type": "code",
   "execution_count": 0,
   "metadata": {
    "colab": {},
    "colab_type": "code",
    "id": "vHyLDEyj-LvQ"
   },
   "outputs": [],
   "source": [
    "df1 = dfnlp.drop(['qid1','qid2','question1','question2'],axis=1)\n",
    "df2 = dfppro.drop(['qid1','qid2','question1','question2','is_duplicate'],axis=1)\n",
    "df3 = X_te_tfidf.drop(['qid1','qid2','question1','question2','is_duplicate'],axis=1)\n",
    "df3_q1 = pd.DataFrame(df3.q1_feats_m.values.tolist(), index= df3.index)\n",
    "df3_q2 = pd.DataFrame(df3.q2_feats_m.values.tolist(), index= df3.index)\n"
   ]
  },
  {
   "cell_type": "code",
   "execution_count": 0,
   "metadata": {
    "colab": {},
    "colab_type": "code",
    "id": "4o7JrePN-TS7"
   },
   "outputs": [],
   "source": [
    "df3_q1['id']=df1['id']\n",
    "df3_q2['id']=df1['id']\n",
    "df2  = df3_q1.merge(df3_q2, on='id',how='left')\n",
    "df1  = df1.merge(df2, on='id',how='left')\n",
    "result_te  = df2.merge(df1, on='id',how='left')"
   ]
  },
  {
   "cell_type": "code",
   "execution_count": 0,
   "metadata": {
    "colab": {},
    "colab_type": "code",
    "id": "uIdMwlMnIxWB"
   },
   "outputs": [],
   "source": [
    "import pickle\n",
    "\n",
    "with open('result_te.pkl','wb') as f:\n",
    "  pickle.dump((result_te,y_te),f)"
   ]
  },
  {
   "cell_type": "code",
   "execution_count": 0,
   "metadata": {
    "colab": {},
    "colab_type": "code",
    "id": "EMrA-tFHIxIU"
   },
   "outputs": [],
   "source": [
    "with open('result_te.pkl','rb') as f:\n",
    "  result_te,y_te = pickle.load(f)"
   ]
  },
  {
   "cell_type": "code",
   "execution_count": 11,
   "metadata": {
    "colab": {
     "base_uri": "https://localhost:8080/",
     "height": 34
    },
    "colab_type": "code",
    "id": "bVdiaZte-f5l",
    "outputId": "c73bbbf5-d3e7-43ca-e087-7e7dce0ee0b0"
   },
   "outputs": [
    {
     "data": {
      "text/plain": [
       "(15000, 1553)"
      ]
     },
     "execution_count": 11,
     "metadata": {
      "tags": []
     },
     "output_type": "execute_result"
    }
   ],
   "source": [
    "result_te.shape"
   ]
  },
  {
   "cell_type": "code",
   "execution_count": 0,
   "metadata": {
    "colab": {},
    "colab_type": "code",
    "id": "RHZ2XTxDtVxT"
   },
   "outputs": [],
   "source": [
    "y_tr = list(map(int,y_tr.values))\n",
    "y_te = list(map(int,y_te.values))"
   ]
  },
  {
   "cell_type": "code",
   "execution_count": 0,
   "metadata": {
    "colab": {},
    "colab_type": "code",
    "id": "Z8oHvBXK5aq4"
   },
   "outputs": [],
   "source": [
    "from sklearn.model_selection import GridSearchCV\n",
    "from xgboost import XGBClassifier\n",
    "\n",
    "def XGBoost(x_train,y_train,x_test,y_test):\n",
    "  param = {'n_estimators': [1, 4, 16,32],\n",
    "          'max_depth': [1,2,3,4,5],\n",
    "          'learning_rate':[0.1,0.2,0.3]}\n",
    "  clf = XGBClassifier(objective = 'binary:logistic',eval_metric = 'logloss')\n",
    "  grid_Search = GridSearchCV(clf,param_grid  = param, cv = 3, n_jobs = -1,return_train_score = True)\n",
    "  grid_Search.fit(x_train,y_train)\n",
    "  \n",
    "  y_pred = grid_Search.predict(x_test)\n",
    "  log_loss_value = log_loss(y_test, y_pred,  eps=1e-15)\n",
    "  best_params = grid_Search.best_params_\n",
    "  \n",
    "  plot_confusion_matrix(y_test, y_pred)\n",
    "  return print('best_params: ',best_params, '\\nlog loss: ', log_loss_value)\n"
   ]
  },
  {
   "cell_type": "code",
   "execution_count": 24,
   "metadata": {
    "colab": {
     "base_uri": "https://localhost:8080/",
     "height": 329
    },
    "colab_type": "code",
    "id": "_fmSs0aDPoUr",
    "outputId": "3cc1a92b-4212-4df0-f21c-64e4b4ca569b"
   },
   "outputs": [
    {
     "data": {
      "image/png": "[encoded data removed]",
      "text/plain": [
       "<Figure size 1440x288 with 6 Axes>"
      ]
     },
     "metadata": {
      "tags": []
     },
     "output_type": "display_data"
    },
    {
     "name": "stdout",
     "output_type": "stream",
     "text": [
      "best_params:  {'learning_rate': 0.1, 'max_depth': 1, 'n_estimators': 1} \n",
      "log loss:  9.992007221626413e-16\n"
     ]
    }
   ],
   "source": [
    "XGBoost(result_tr,y_tr,result_te,y_te)"
   ]
  },
  {
   "cell_type": "markdown",
   "metadata": {
    "colab_type": "text",
    "id": "WfrgV8rQZ1_R"
   },
   "source": [
    "**Here above in XGBoost log loss is 9.992007221626413e-16 at value of larning rate 0.1 ,max depth 1 and n_estimators 1.**"
   ]
  },
  {
   "cell_type": "code",
   "execution_count": 0,
   "metadata": {
    "colab": {
     "base_uri": "https://localhost:8080/",
     "height": 204
    },
    "colab_type": "code",
    "id": "tTIP1K34LkRv",
    "outputId": "e35bec1b-79f0-45c3-b3c0-d75d46f5b8d7"
   },
   "outputs": [
    {
     "data": {
      "text/html": [
       "<div>\n",
       "<style scoped>\n",
       "    .dataframe tbody tr th:only-of-type {\n",
       "        vertical-align: middle;\n",
       "    }\n",
       "\n",
       "    .dataframe tbody tr th {\n",
       "        vertical-align: top;\n",
       "    }\n",
       "\n",
       "    .dataframe thead th {\n",
       "        text-align: right;\n",
       "    }\n",
       "</style>\n",
       "<table border=\"1\" class=\"dataframe\">\n",
       "  <thead>\n",
       "    <tr style=\"text-align: right;\">\n",
       "      <th></th>\n",
       "      <th>Model</th>\n",
       "      <th>Train log loss</th>\n",
       "      <th>Test log loss</th>\n",
       "    </tr>\n",
       "  </thead>\n",
       "  <tbody>\n",
       "    <tr>\n",
       "      <th>4</th>\n",
       "      <td>Linear SVM with simple tf-idf</td>\n",
       "      <td>0.532385</td>\n",
       "      <td>0.558293</td>\n",
       "    </tr>\n",
       "    <tr>\n",
       "      <th>3</th>\n",
       "      <td>Logistic Regression with simple tf-idf</td>\n",
       "      <td>0.516410</td>\n",
       "      <td>0.548527</td>\n",
       "    </tr>\n",
       "    <tr>\n",
       "      <th>0</th>\n",
       "      <td>Logistic Regression with weighted Tf-idf</td>\n",
       "      <td>0.513843</td>\n",
       "      <td>0.520036</td>\n",
       "    </tr>\n",
       "    <tr>\n",
       "      <th>1</th>\n",
       "      <td>Linear SVM with weighted Tf-idf</td>\n",
       "      <td>0.478055</td>\n",
       "      <td>0.489669</td>\n",
       "    </tr>\n",
       "    <tr>\n",
       "      <th>2</th>\n",
       "      <td>XGBoost without hyperparam tuning</td>\n",
       "      <td>0.345568</td>\n",
       "      <td>0.357054</td>\n",
       "    </tr>\n",
       "  </tbody>\n",
       "</table>\n",
       "</div>"
      ],
      "text/plain": [
       "                                       Model  Train log loss  Test log loss\n",
       "4              Linear SVM with simple tf-idf        0.532385       0.558293\n",
       "3     Logistic Regression with simple tf-idf        0.516410       0.548527\n",
       "0  Logistic Regression with weighted Tf-idf         0.513843       0.520036\n",
       "1            Linear SVM with weighted Tf-idf        0.478055       0.489669\n",
       "2          XGBoost without hyperparam tuning        0.345568       0.357054"
      ]
     },
     "execution_count": 13,
     "metadata": {
      "tags": []
     },
     "output_type": "execute_result"
    }
   ],
   "source": [
    "df = pd.DataFrame({\"Model\":[\"Logistic Regression with weighted Tf-idf \",\"Linear SVM with weighted Tf-idf\",\"XGBoost without hyperparam tuning\",\"Logistic Regression with simple tf-idf\",\"Linear SVM with simple tf-idf\"],\n",
    "                   \"Train log loss\":[0.513842874233,0.478054677285,0.345568,0.516409978830354,0.5323848515475809],\n",
    "\t\t\t\t\t\"Test log loss\":[0.520035530431,0.489669093534,0.357054433715,0.5485267388634054,0.5582927884622025]}\n",
    "                  ,columns=[\"Model\",\"Train log loss\",\"Test log loss\"])\n",
    "df.sort_values(by=\"Test log loss\",ascending=False)"
   ]
  },
  {
   "cell_type": "markdown",
   "metadata": {
    "colab_type": "text",
    "id": "enah3sKraPmm"
   },
   "source": [
    "Above results show that weighted tf-idf works better than simple tf-idf."
   ]
  }
 ],
 "metadata": {
  "accelerator": "GPU",
  "colab": {
   "collapsed_sections": [],
   "name": "Copy of 4.ML_models.ipynb",
   "provenance": [],
   "version": "0.3.2"
  },
  "kernelspec": {
   "display_name": "Python 3",
   "name": "python3"
  }
 },
 "nbformat": 4,
 "nbformat_minor": 1
}
